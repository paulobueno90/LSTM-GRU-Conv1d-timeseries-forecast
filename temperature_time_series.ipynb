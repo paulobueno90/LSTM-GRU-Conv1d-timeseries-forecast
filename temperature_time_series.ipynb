{
  "nbformat": 4,
  "nbformat_minor": 0,
  "metadata": {
    "colab": {
      "name": "temperature-time-series.ipynb",
      "provenance": []
    },
    "kernelspec": {
      "name": "python3",
      "display_name": "Python 3"
    },
    "language_info": {
      "name": "python"
    }
  },
  "cells": [
    {
      "cell_type": "code",
      "metadata": {
        "id": "95JpBf5jF4xC"
      },
      "source": [
        "import zipfile\n",
        "import urllib\n",
        "\n",
        "import tensorflow as tf\n",
        "import os\n",
        "import pandas as pd\n",
        "import numpy as np\n",
        "\n",
        "import matplotlib.pyplot as plt\n",
        "import matplotlib as mpl\n",
        "import seaborn as sns"
      ],
      "execution_count": 31,
      "outputs": []
    },
    {
      "cell_type": "code",
      "metadata": {
        "id": "ndACihzvCgNS"
      },
      "source": [
        "# Setting Seaborn Theme\n",
        "sns.set_theme(style=\"whitegrid\", font_scale=1.4)\n",
        "\n",
        "plt.rcParams[\"figure.figsize\"] = (12,7)"
      ],
      "execution_count": 32,
      "outputs": []
    },
    {
      "cell_type": "code",
      "metadata": {
        "id": "EuNPcyM7ROvE"
      },
      "source": [
        "def get_data(city,start_year,end_year):\n",
        "\n",
        "    years = np.arange(start_year,end_year+1,1)\n",
        "    files_path = []\n",
        "\n",
        "    for year in years:\n",
        "\n",
        "        zip_url = f\"https://portal.inmet.gov.br/uploads/dadoshistoricos/{year}.zip\"\n",
        "        zip_file = zip_url.split('/')[-1]\n",
        "        urllib.request.urlretrieve(zip_url, zip_file)\n",
        "\n",
        "        with zipfile.ZipFile(zip_file, \"r\") as f:\n",
        "            for name in f.namelist():\n",
        "                if city in name.lower():\n",
        "                  print(f\"{city.upper}\\nYear:{year}\\n_____________________________________\")\n",
        "                  f.extract(name, path=None, pwd=None)\n",
        "                  files_path.append(name)\n",
        "\n",
        "    return files_path\n",
        "\n",
        "def read_file(file):\n",
        "    temp_df = pd.read_csv(file,sep=';',header=8, encoding='latin-1')\n",
        "    columns_selected = [0,1,3,7]\n",
        "    temp_df = temp_df[temp_df.columns[columns_selected]]\n",
        "\n",
        "    actual_columns = temp_df.columns.to_list()\n",
        "    new_columns = {}\n",
        "\n",
        "    new_columns[actual_columns[0]] = 'date'\n",
        "    new_columns[actual_columns[1]] = 'hour'\n",
        "    new_columns[actual_columns[2]] = 'p (mB)'\n",
        "    new_columns[actual_columns[3]] = 'Temperature'\n",
        "\n",
        "    temp_df.rename(columns=new_columns, inplace=True)\n",
        "\n",
        "    return temp_df\n",
        "\n",
        "def create_dataframe(csvs_path_list):\n",
        "\n",
        "    df = pd.concat([read_file(file) for file in csvs_path_list], axis=0)\n",
        "    df['date'] = df['date'].str.replace('/','-')\n",
        "    df['hour'] = df['hour'].apply(lambda x: x[:2])\n",
        "\n",
        "    df['datetime'] = df['date'] + ' ' + df['hour']\n",
        "    df['datetime'] = pd.to_datetime(df['datetime'], format='%Y-%m-%d %H')\n",
        "\n",
        "    df.drop(['date','hour'],axis=1,inplace=True)\n",
        "    df.set_index('datetime',inplace=True)\n",
        "\n",
        "    df['p (mB)'] = df['p (mB)'].str.replace(',','.')\n",
        "    df['Temperature'] = df['Temperature'].str.replace(',','.')\n",
        "\n",
        "    df['p (mB)'] = df['p (mB)'].astype(float)\n",
        "    df['Temperature'] = df['Temperature'].astype(float)\n",
        "\n",
        "    df = df.replace(-9999.0, np.nan)\n",
        "\n",
        "    df['p (mB)'] = df['p (mB)'].interpolate()\n",
        "    df['Temperature'] = df['Temperature'].interpolate()\n",
        "\n",
        "    return df"
      ],
      "execution_count": 33,
      "outputs": []
    },
    {
      "cell_type": "code",
      "metadata": {
        "colab": {
          "base_uri": "https://localhost:8080/"
        },
        "id": "hoUjEgIlGjAT",
        "outputId": "24ecbeda-c1fd-40ce-a91f-7138b782da69"
      },
      "source": [
        "files_path = get_data('brasilia',2011,2020)"
      ],
      "execution_count": 34,
      "outputs": [
        {
          "output_type": "stream",
          "name": "stdout",
          "text": [
            "<built-in method upper of str object at 0x7feb729c87b0>\n",
            "Year:2011\n",
            "_____________________________________\n",
            "<built-in method upper of str object at 0x7feb729c87b0>\n",
            "Year:2012\n",
            "_____________________________________\n",
            "<built-in method upper of str object at 0x7feb729c87b0>\n",
            "Year:2013\n",
            "_____________________________________\n",
            "<built-in method upper of str object at 0x7feb729c87b0>\n",
            "Year:2014\n",
            "_____________________________________\n",
            "<built-in method upper of str object at 0x7feb729c87b0>\n",
            "Year:2015\n",
            "_____________________________________\n",
            "<built-in method upper of str object at 0x7feb729c87b0>\n",
            "Year:2016\n",
            "_____________________________________\n",
            "<built-in method upper of str object at 0x7feb729c87b0>\n",
            "Year:2017\n",
            "_____________________________________\n",
            "<built-in method upper of str object at 0x7feb729c87b0>\n",
            "Year:2018\n",
            "_____________________________________\n",
            "<built-in method upper of str object at 0x7feb729c87b0>\n",
            "Year:2019\n",
            "_____________________________________\n",
            "<built-in method upper of str object at 0x7feb729c87b0>\n",
            "Year:2020\n",
            "_____________________________________\n"
          ]
        }
      ]
    },
    {
      "cell_type": "code",
      "metadata": {
        "colab": {
          "base_uri": "https://localhost:8080/",
          "height": 411
        },
        "id": "1fkZuMp2GHtx",
        "outputId": "dff89bcc-dbf3-4e36-a584-c03d74f76636"
      },
      "source": [
        "temp_df = pd.read_csv(files_path[0],sep=';',header=8, encoding='latin-1')\n",
        "temp_df.head()"
      ],
      "execution_count": 35,
      "outputs": [
        {
          "output_type": "execute_result",
          "data": {
            "text/html": [
              "<div>\n",
              "<style scoped>\n",
              "    .dataframe tbody tr th:only-of-type {\n",
              "        vertical-align: middle;\n",
              "    }\n",
              "\n",
              "    .dataframe tbody tr th {\n",
              "        vertical-align: top;\n",
              "    }\n",
              "\n",
              "    .dataframe thead th {\n",
              "        text-align: right;\n",
              "    }\n",
              "</style>\n",
              "<table border=\"1\" class=\"dataframe\">\n",
              "  <thead>\n",
              "    <tr style=\"text-align: right;\">\n",
              "      <th></th>\n",
              "      <th>DATA (YYYY-MM-DD)</th>\n",
              "      <th>HORA (UTC)</th>\n",
              "      <th>PRECIPITAÇÃO TOTAL, HORÁRIO (mm)</th>\n",
              "      <th>PRESSAO ATMOSFERICA AO NIVEL DA ESTACAO, HORARIA (mB)</th>\n",
              "      <th>PRESSÃO ATMOSFERICA MAX.NA HORA ANT. (AUT) (mB)</th>\n",
              "      <th>PRESSÃO ATMOSFERICA MIN. NA HORA ANT. (AUT) (mB)</th>\n",
              "      <th>RADIACAO GLOBAL (KJ/m²)</th>\n",
              "      <th>TEMPERATURA DO AR - BULBO SECO, HORARIA (°C)</th>\n",
              "      <th>TEMPERATURA DO PONTO DE ORVALHO (°C)</th>\n",
              "      <th>TEMPERATURA MÁXIMA NA HORA ANT. (AUT) (°C)</th>\n",
              "      <th>TEMPERATURA MÍNIMA NA HORA ANT. (AUT) (°C)</th>\n",
              "      <th>TEMPERATURA ORVALHO MAX. NA HORA ANT. (AUT) (°C)</th>\n",
              "      <th>TEMPERATURA ORVALHO MIN. NA HORA ANT. (AUT) (°C)</th>\n",
              "      <th>UMIDADE REL. MAX. NA HORA ANT. (AUT) (%)</th>\n",
              "      <th>UMIDADE REL. MIN. NA HORA ANT. (AUT) (%)</th>\n",
              "      <th>UMIDADE RELATIVA DO AR, HORARIA (%)</th>\n",
              "      <th>VENTO, DIREÇÃO HORARIA (gr) (° (gr))</th>\n",
              "      <th>VENTO, RAJADA MAXIMA (m/s)</th>\n",
              "      <th>VENTO, VELOCIDADE HORARIA (m/s)</th>\n",
              "      <th>Unnamed: 19</th>\n",
              "    </tr>\n",
              "  </thead>\n",
              "  <tbody>\n",
              "    <tr>\n",
              "      <th>0</th>\n",
              "      <td>2011-01-01</td>\n",
              "      <td>00:00</td>\n",
              "      <td>0</td>\n",
              "      <td>881,8</td>\n",
              "      <td>881,8</td>\n",
              "      <td>881</td>\n",
              "      <td>-9999</td>\n",
              "      <td>19,2</td>\n",
              "      <td>18,3</td>\n",
              "      <td>19,4</td>\n",
              "      <td>19,2</td>\n",
              "      <td>18,5</td>\n",
              "      <td>18,3</td>\n",
              "      <td>95</td>\n",
              "      <td>94</td>\n",
              "      <td>95</td>\n",
              "      <td>342</td>\n",
              "      <td>5,8</td>\n",
              "      <td>3,4</td>\n",
              "      <td>NaN</td>\n",
              "    </tr>\n",
              "    <tr>\n",
              "      <th>1</th>\n",
              "      <td>2011-01-01</td>\n",
              "      <td>01:00</td>\n",
              "      <td>0</td>\n",
              "      <td>882,4</td>\n",
              "      <td>882,4</td>\n",
              "      <td>881,7</td>\n",
              "      <td>-9999</td>\n",
              "      <td>19,3</td>\n",
              "      <td>18,2</td>\n",
              "      <td>19,3</td>\n",
              "      <td>19,2</td>\n",
              "      <td>18,4</td>\n",
              "      <td>18,2</td>\n",
              "      <td>95</td>\n",
              "      <td>93</td>\n",
              "      <td>93</td>\n",
              "      <td>334</td>\n",
              "      <td>5,6</td>\n",
              "      <td>2,2</td>\n",
              "      <td>NaN</td>\n",
              "    </tr>\n",
              "    <tr>\n",
              "      <th>2</th>\n",
              "      <td>2011-01-01</td>\n",
              "      <td>02:00</td>\n",
              "      <td>0</td>\n",
              "      <td>882,7</td>\n",
              "      <td>882,7</td>\n",
              "      <td>882,4</td>\n",
              "      <td>-9999</td>\n",
              "      <td>19,1</td>\n",
              "      <td>18,3</td>\n",
              "      <td>19,3</td>\n",
              "      <td>19,1</td>\n",
              "      <td>18,3</td>\n",
              "      <td>18,2</td>\n",
              "      <td>95</td>\n",
              "      <td>93</td>\n",
              "      <td>95</td>\n",
              "      <td>347</td>\n",
              "      <td>5,6</td>\n",
              "      <td>3</td>\n",
              "      <td>NaN</td>\n",
              "    </tr>\n",
              "    <tr>\n",
              "      <th>3</th>\n",
              "      <td>2011-01-01</td>\n",
              "      <td>03:00</td>\n",
              "      <td>6</td>\n",
              "      <td>882,6</td>\n",
              "      <td>882,9</td>\n",
              "      <td>882,6</td>\n",
              "      <td>,3</td>\n",
              "      <td>18,1</td>\n",
              "      <td>17,6</td>\n",
              "      <td>19,1</td>\n",
              "      <td>18,1</td>\n",
              "      <td>18,4</td>\n",
              "      <td>17,6</td>\n",
              "      <td>97</td>\n",
              "      <td>95</td>\n",
              "      <td>96</td>\n",
              "      <td>310</td>\n",
              "      <td>7,9</td>\n",
              "      <td>3,7</td>\n",
              "      <td>NaN</td>\n",
              "    </tr>\n",
              "    <tr>\n",
              "      <th>4</th>\n",
              "      <td>2011-01-01</td>\n",
              "      <td>04:00</td>\n",
              "      <td>3</td>\n",
              "      <td>882</td>\n",
              "      <td>882,6</td>\n",
              "      <td>882</td>\n",
              "      <td>-9999</td>\n",
              "      <td>17,7</td>\n",
              "      <td>17,2</td>\n",
              "      <td>18,2</td>\n",
              "      <td>17,7</td>\n",
              "      <td>17,6</td>\n",
              "      <td>17,1</td>\n",
              "      <td>97</td>\n",
              "      <td>96</td>\n",
              "      <td>96</td>\n",
              "      <td>335</td>\n",
              "      <td>6,7</td>\n",
              "      <td>2,4</td>\n",
              "      <td>NaN</td>\n",
              "    </tr>\n",
              "  </tbody>\n",
              "</table>\n",
              "</div>"
            ],
            "text/plain": [
              "  DATA (YYYY-MM-DD) HORA (UTC)  ... VENTO, VELOCIDADE HORARIA (m/s) Unnamed: 19\n",
              "0        2011-01-01      00:00  ...                             3,4         NaN\n",
              "1        2011-01-01      01:00  ...                             2,2         NaN\n",
              "2        2011-01-01      02:00  ...                               3         NaN\n",
              "3        2011-01-01      03:00  ...                             3,7         NaN\n",
              "4        2011-01-01      04:00  ...                             2,4         NaN\n",
              "\n",
              "[5 rows x 20 columns]"
            ]
          },
          "metadata": {},
          "execution_count": 35
        }
      ]
    },
    {
      "cell_type": "code",
      "metadata": {
        "colab": {
          "base_uri": "https://localhost:8080/"
        },
        "id": "2GLr60wfjyIW",
        "outputId": "0cdc4263-05be-4e0f-bd58-da8d910a32e6"
      },
      "source": [
        "print(* (f\"{i}: {col}\" for i,col in enumerate(temp_df.columns)), sep='\\n')"
      ],
      "execution_count": 36,
      "outputs": [
        {
          "output_type": "stream",
          "name": "stdout",
          "text": [
            "0: DATA (YYYY-MM-DD)\n",
            "1: HORA (UTC)\n",
            "2: PRECIPITAÇÃO TOTAL, HORÁRIO (mm)\n",
            "3: PRESSAO ATMOSFERICA AO NIVEL DA ESTACAO, HORARIA (mB)\n",
            "4: PRESSÃO ATMOSFERICA MAX.NA HORA ANT. (AUT) (mB)\n",
            "5: PRESSÃO ATMOSFERICA MIN. NA HORA ANT. (AUT) (mB)\n",
            "6: RADIACAO GLOBAL (KJ/m²)\n",
            "7: TEMPERATURA DO AR - BULBO SECO, HORARIA (°C)\n",
            "8: TEMPERATURA DO PONTO DE ORVALHO (°C)\n",
            "9: TEMPERATURA MÁXIMA NA HORA ANT. (AUT) (°C)\n",
            "10: TEMPERATURA MÍNIMA NA HORA ANT. (AUT) (°C)\n",
            "11: TEMPERATURA ORVALHO MAX. NA HORA ANT. (AUT) (°C)\n",
            "12: TEMPERATURA ORVALHO MIN. NA HORA ANT. (AUT) (°C)\n",
            "13: UMIDADE REL. MAX. NA HORA ANT. (AUT) (%)\n",
            "14: UMIDADE REL. MIN. NA HORA ANT. (AUT) (%)\n",
            "15: UMIDADE RELATIVA DO AR, HORARIA (%)\n",
            "16: VENTO, DIREÇÃO HORARIA (gr) (° (gr))\n",
            "17: VENTO, RAJADA MAXIMA (m/s)\n",
            "18: VENTO, VELOCIDADE HORARIA (m/s)\n",
            "19: Unnamed: 19\n"
          ]
        }
      ]
    },
    {
      "cell_type": "code",
      "metadata": {
        "colab": {
          "base_uri": "https://localhost:8080/"
        },
        "id": "1yw_xTpOg07-",
        "outputId": "47ae8986-9447-4925-f79d-42e33631fc5d"
      },
      "source": [
        "columns_selected = [0,1,3,7]\n",
        "temp_df = temp_df[temp_df.columns[columns_selected]]\n",
        "print(* (f\"{i}: {col}\" for i,col in enumerate(temp_df.columns)), sep='\\n')\n",
        "\n",
        "actual_columns = temp_df.columns.to_list()\n",
        "new_columns = {}\n",
        "\n",
        "new_columns[actual_columns[0]] = 'date'\n",
        "new_columns[actual_columns[1]] = 'hour'\n",
        "new_columns[actual_columns[2]] = 'p (mB)'\n",
        "new_columns[actual_columns[3]] = 'Temperature'\n",
        "\n",
        "temp_df.rename(columns=new_columns, inplace=True)"
      ],
      "execution_count": 37,
      "outputs": [
        {
          "output_type": "stream",
          "name": "stdout",
          "text": [
            "0: DATA (YYYY-MM-DD)\n",
            "1: HORA (UTC)\n",
            "2: PRESSAO ATMOSFERICA AO NIVEL DA ESTACAO, HORARIA (mB)\n",
            "3: TEMPERATURA DO AR - BULBO SECO, HORARIA (°C)\n"
          ]
        }
      ]
    },
    {
      "cell_type": "code",
      "metadata": {
        "colab": {
          "base_uri": "https://localhost:8080/",
          "height": 419
        },
        "id": "xMc0QZ74h0pW",
        "outputId": "9a3d7104-9932-4911-a372-2b09bd891ded"
      },
      "source": [
        "temp_df"
      ],
      "execution_count": 38,
      "outputs": [
        {
          "output_type": "execute_result",
          "data": {
            "text/html": [
              "<div>\n",
              "<style scoped>\n",
              "    .dataframe tbody tr th:only-of-type {\n",
              "        vertical-align: middle;\n",
              "    }\n",
              "\n",
              "    .dataframe tbody tr th {\n",
              "        vertical-align: top;\n",
              "    }\n",
              "\n",
              "    .dataframe thead th {\n",
              "        text-align: right;\n",
              "    }\n",
              "</style>\n",
              "<table border=\"1\" class=\"dataframe\">\n",
              "  <thead>\n",
              "    <tr style=\"text-align: right;\">\n",
              "      <th></th>\n",
              "      <th>date</th>\n",
              "      <th>hour</th>\n",
              "      <th>p (mB)</th>\n",
              "      <th>Temperature</th>\n",
              "    </tr>\n",
              "  </thead>\n",
              "  <tbody>\n",
              "    <tr>\n",
              "      <th>0</th>\n",
              "      <td>2011-01-01</td>\n",
              "      <td>00:00</td>\n",
              "      <td>881,8</td>\n",
              "      <td>19,2</td>\n",
              "    </tr>\n",
              "    <tr>\n",
              "      <th>1</th>\n",
              "      <td>2011-01-01</td>\n",
              "      <td>01:00</td>\n",
              "      <td>882,4</td>\n",
              "      <td>19,3</td>\n",
              "    </tr>\n",
              "    <tr>\n",
              "      <th>2</th>\n",
              "      <td>2011-01-01</td>\n",
              "      <td>02:00</td>\n",
              "      <td>882,7</td>\n",
              "      <td>19,1</td>\n",
              "    </tr>\n",
              "    <tr>\n",
              "      <th>3</th>\n",
              "      <td>2011-01-01</td>\n",
              "      <td>03:00</td>\n",
              "      <td>882,6</td>\n",
              "      <td>18,1</td>\n",
              "    </tr>\n",
              "    <tr>\n",
              "      <th>4</th>\n",
              "      <td>2011-01-01</td>\n",
              "      <td>04:00</td>\n",
              "      <td>882</td>\n",
              "      <td>17,7</td>\n",
              "    </tr>\n",
              "    <tr>\n",
              "      <th>...</th>\n",
              "      <td>...</td>\n",
              "      <td>...</td>\n",
              "      <td>...</td>\n",
              "      <td>...</td>\n",
              "    </tr>\n",
              "    <tr>\n",
              "      <th>8755</th>\n",
              "      <td>2011-12-31</td>\n",
              "      <td>19:00</td>\n",
              "      <td>881,9</td>\n",
              "      <td>26</td>\n",
              "    </tr>\n",
              "    <tr>\n",
              "      <th>8756</th>\n",
              "      <td>2011-12-31</td>\n",
              "      <td>20:00</td>\n",
              "      <td>882</td>\n",
              "      <td>21,7</td>\n",
              "    </tr>\n",
              "    <tr>\n",
              "      <th>8757</th>\n",
              "      <td>2011-12-31</td>\n",
              "      <td>21:00</td>\n",
              "      <td>882,4</td>\n",
              "      <td>21,4</td>\n",
              "    </tr>\n",
              "    <tr>\n",
              "      <th>8758</th>\n",
              "      <td>2011-12-31</td>\n",
              "      <td>22:00</td>\n",
              "      <td>883</td>\n",
              "      <td>19,8</td>\n",
              "    </tr>\n",
              "    <tr>\n",
              "      <th>8759</th>\n",
              "      <td>2011-12-31</td>\n",
              "      <td>23:00</td>\n",
              "      <td>883,8</td>\n",
              "      <td>19,4</td>\n",
              "    </tr>\n",
              "  </tbody>\n",
              "</table>\n",
              "<p>8760 rows × 4 columns</p>\n",
              "</div>"
            ],
            "text/plain": [
              "            date   hour p (mB) Temperature\n",
              "0     2011-01-01  00:00  881,8        19,2\n",
              "1     2011-01-01  01:00  882,4        19,3\n",
              "2     2011-01-01  02:00  882,7        19,1\n",
              "3     2011-01-01  03:00  882,6        18,1\n",
              "4     2011-01-01  04:00    882        17,7\n",
              "...          ...    ...    ...         ...\n",
              "8755  2011-12-31  19:00  881,9          26\n",
              "8756  2011-12-31  20:00    882        21,7\n",
              "8757  2011-12-31  21:00  882,4        21,4\n",
              "8758  2011-12-31  22:00    883        19,8\n",
              "8759  2011-12-31  23:00  883,8        19,4\n",
              "\n",
              "[8760 rows x 4 columns]"
            ]
          },
          "metadata": {},
          "execution_count": 38
        }
      ]
    },
    {
      "cell_type": "code",
      "metadata": {
        "id": "DLJoFzHZey87"
      },
      "source": [
        "def read_file(file):\n",
        "    temp_df = pd.read_csv(file,sep=';',header=8, encoding='latin-1')\n",
        "    columns_selected = [0,1,3,7]\n",
        "    temp_df = temp_df[temp_df.columns[columns_selected]]\n",
        "\n",
        "    actual_columns = temp_df.columns.to_list()\n",
        "    new_columns = {}\n",
        "\n",
        "    new_columns[actual_columns[0]] = 'date'\n",
        "    new_columns[actual_columns[1]] = 'hour'\n",
        "    new_columns[actual_columns[2]] = 'p (mB)'\n",
        "    new_columns[actual_columns[3]] = 'Temperature'\n",
        "\n",
        "    temp_df.rename(columns=new_columns, inplace=True)\n",
        "\n",
        "    return temp_df\n",
        "\n",
        "def create_dataframe(csvs_path_list):\n",
        "\n",
        "    df = pd.concat([read_file(file) for file in csvs_path_list], axis=0)\n",
        "    df['date'] = df['date'].str.replace('/','-')\n",
        "    df['hour'] = df['hour'].apply(lambda x: x[:2])\n",
        "\n",
        "    df['datetime'] = df['date'] + ' ' + df['hour']\n",
        "    df['datetime'] = pd.to_datetime(df['datetime'], format='%Y-%m-%d %H')\n",
        "\n",
        "    df.drop(['date','hour'],axis=1,inplace=True)\n",
        "    df.set_index('datetime',inplace=True)\n",
        "\n",
        "    df['p (mB)'] = df['p (mB)'].str.replace(',','.')\n",
        "    df['Temperature'] = df['Temperature'].str.replace(',','.')\n",
        "\n",
        "    df['p (mB)'] = df['p (mB)'].astype(float)\n",
        "    df['Temperature'] = df['Temperature'].astype(float)\n",
        "\n",
        "    df = df.replace(-9999.0, np.nan)\n",
        "\n",
        "    df['p (mB)'] = df['p (mB)'].interpolate()\n",
        "    df['Temperature'] = df['Temperature'].interpolate()\n",
        "\n",
        "    return df"
      ],
      "execution_count": 93,
      "outputs": []
    },
    {
      "cell_type": "code",
      "metadata": {
        "id": "hTFCK-pBk0Wb"
      },
      "source": [
        "df = create_dataframe(csvs_path_list=files_path)"
      ],
      "execution_count": 94,
      "outputs": []
    },
    {
      "cell_type": "code",
      "metadata": {
        "id": "Qv5xTLVek1XL"
      },
      "source": [
        "nan_index = df.loc[df['p (mB)'] == df['p (mB)'].min()].index"
      ],
      "execution_count": 41,
      "outputs": []
    },
    {
      "cell_type": "code",
      "metadata": {
        "id": "yxOwMeFFl9FT"
      },
      "source": [
        "df = df.replace(-9999.0, np.nan)"
      ],
      "execution_count": 42,
      "outputs": []
    },
    {
      "cell_type": "code",
      "metadata": {
        "colab": {
          "base_uri": "https://localhost:8080/"
        },
        "id": "DxnUSUaDmbEM",
        "outputId": "409bb30b-c172-48ee-8ce0-6af327654a13"
      },
      "source": [
        "df.isnull().sum()"
      ],
      "execution_count": 43,
      "outputs": [
        {
          "output_type": "execute_result",
          "data": {
            "text/plain": [
              "p (mB)         115\n",
              "Temperature    116\n",
              "dtype: int64"
            ]
          },
          "metadata": {},
          "execution_count": 43
        }
      ]
    },
    {
      "cell_type": "code",
      "metadata": {
        "id": "oN3-7hrWBJEd"
      },
      "source": [
        "df['p (mB)'] = df['p (mB)'].interpolate()\n",
        "df['Temperature'] = df['Temperature'].interpolate()"
      ],
      "execution_count": 44,
      "outputs": []
    },
    {
      "cell_type": "code",
      "metadata": {
        "id": "pqgTyLnnCCMV"
      },
      "source": [
        "temperature_df = df['Temperature']"
      ],
      "execution_count": 45,
      "outputs": []
    },
    {
      "cell_type": "code",
      "metadata": {
        "colab": {
          "base_uri": "https://localhost:8080/",
          "height": 512
        },
        "id": "Zgxc6xIHCUvW",
        "outputId": "c33903b1-bf3a-4c1c-981a-314367554a95"
      },
      "source": [
        "temperature_df['2020':].plot(title='Temperature - 2020')"
      ],
      "execution_count": 46,
      "outputs": [
        {
          "output_type": "execute_result",
          "data": {
            "text/plain": [
              "<matplotlib.axes._subplots.AxesSubplot at 0x7feb664dd510>"
            ]
          },
          "metadata": {},
          "execution_count": 46
        },
        {
          "output_type": "display_data",
          "data": {
            "image/png": "[encoded data removed]",
            "text/plain": [
              "<Figure size 864x504 with 1 Axes>"
            ]
          },
          "metadata": {}
        }
      ]
    },
    {
      "cell_type": "code",
      "metadata": {
        "colab": {
          "base_uri": "https://localhost:8080/",
          "height": 512
        },
        "id": "a2HdEcYnCV9u",
        "outputId": "61da3193-9752-4b81-a4d7-eefebd85c785"
      },
      "source": [
        "temperature_df['2020':].resample('D').mean().plot(title='Temperature - 2020')"
      ],
      "execution_count": 47,
      "outputs": [
        {
          "output_type": "execute_result",
          "data": {
            "text/plain": [
              "<matplotlib.axes._subplots.AxesSubplot at 0x7feb64a2ef10>"
            ]
          },
          "metadata": {},
          "execution_count": 47
        },
        {
          "output_type": "display_data",
          "data": {
            "image/png": "[encoded data removed]",
            "text/plain": [
              "<Figure size 864x504 with 1 Axes>"
            ]
          },
          "metadata": {}
        }
      ]
    },
    {
      "cell_type": "code",
      "metadata": {
        "id": "h5OPDeHMDI0u"
      },
      "source": [
        "def df_to_X_y(df, window_size):\n",
        "    df_as_np = df.to_numpy()\n",
        "    X = []\n",
        "    y = []\n",
        "    for i in range(len(df_as_np)-window_size):\n",
        "        row = [[a] for a in df_as_np[i:i+window_size]]\n",
        "        X.append(row)\n",
        "        label = df_as_np[i+window_size]\n",
        "        y.append(label)\n",
        "    return np.array(X), np.array(y)"
      ],
      "execution_count": 48,
      "outputs": []
    },
    {
      "cell_type": "code",
      "metadata": {
        "colab": {
          "base_uri": "https://localhost:8080/"
        },
        "id": "Om_PyJJ7DWc1",
        "outputId": "9c575bf0-e19c-450c-f376-3010821efe29"
      },
      "source": [
        "WINDOW_SIZE = 5\n",
        "X1, y1 = df_to_X_y(temperature_df, WINDOW_SIZE)\n",
        "X1.shape, y1.shape"
      ],
      "execution_count": 49,
      "outputs": [
        {
          "output_type": "execute_result",
          "data": {
            "text/plain": [
              "((87667, 5, 1), (87667,))"
            ]
          },
          "metadata": {},
          "execution_count": 49
        }
      ]
    },
    {
      "cell_type": "code",
      "metadata": {
        "id": "xjT4dpEmEBJB"
      },
      "source": [
        "total_len = len(X1)\n",
        "test_val_len = int(total_len * 0.10)\n",
        "train_len = total_len - (2*test_val_len)"
      ],
      "execution_count": 50,
      "outputs": []
    },
    {
      "cell_type": "code",
      "metadata": {
        "colab": {
          "base_uri": "https://localhost:8080/"
        },
        "id": "5dCAw9rjDi58",
        "outputId": "16bd2393-a377-4abe-ce90-87b8f940d6dd"
      },
      "source": [
        "X_train1, y_train1 = X1[:train_len], y1[:train_len]\n",
        "X_val1, y_val1 = X1[train_len:train_len + test_val_len], y1[train_len:train_len + test_val_len]\n",
        "X_test1, y_test1 = X1[train_len + test_val_len:], y1[train_len + test_val_len:]\n",
        "X_train1.shape, y_train1.shape, X_val1.shape, y_val1.shape, X_test1.shape, y_test1.shape"
      ],
      "execution_count": 51,
      "outputs": [
        {
          "output_type": "execute_result",
          "data": {
            "text/plain": [
              "((70135, 5, 1), (70135,), (8766, 5, 1), (8766,), (8766, 5, 1), (8766,))"
            ]
          },
          "metadata": {},
          "execution_count": 51
        }
      ]
    },
    {
      "cell_type": "code",
      "metadata": {
        "colab": {
          "base_uri": "https://localhost:8080/"
        },
        "id": "XLQ7_eIqExAd",
        "outputId": "97bc54fa-a3de-4e2b-f6aa-3e0f8db64d85"
      },
      "source": [
        "from tensorflow.keras.models import Sequential\n",
        "from tensorflow.keras.layers import *\n",
        "from tensorflow.keras.callbacks import ModelCheckpoint\n",
        "from tensorflow.keras.losses import MeanSquaredError\n",
        "from tensorflow.keras.metrics import RootMeanSquaredError\n",
        "from tensorflow.keras.optimizers import Adam\n",
        "\n",
        "model1 = Sequential()\n",
        "model1.add(InputLayer((5, 1)))\n",
        "model1.add(LSTM(64))\n",
        "model1.add(Dense(8, 'relu'))\n",
        "model1.add(Dense(1, 'linear'))\n",
        "\n",
        "model1.summary()"
      ],
      "execution_count": 52,
      "outputs": [
        {
          "output_type": "stream",
          "name": "stdout",
          "text": [
            "Model: \"sequential_1\"\n",
            "_________________________________________________________________\n",
            "Layer (type)                 Output Shape              Param #   \n",
            "=================================================================\n",
            "lstm_1 (LSTM)                (None, 64)                16896     \n",
            "_________________________________________________________________\n",
            "dense_2 (Dense)              (None, 8)                 520       \n",
            "_________________________________________________________________\n",
            "dense_3 (Dense)              (None, 1)                 9         \n",
            "=================================================================\n",
            "Total params: 17,425\n",
            "Trainable params: 17,425\n",
            "Non-trainable params: 0\n",
            "_________________________________________________________________\n"
          ]
        }
      ]
    },
    {
      "cell_type": "code",
      "metadata": {
        "id": "xBpwAmcuE3u1"
      },
      "source": [
        "cp1 = ModelCheckpoint('model1/', save_best_only=True)\n",
        "model1.compile(loss=MeanSquaredError(), optimizer=Adam(learning_rate=0.0001), metrics=[RootMeanSquaredError()])"
      ],
      "execution_count": 53,
      "outputs": []
    },
    {
      "cell_type": "code",
      "metadata": {
        "colab": {
          "base_uri": "https://localhost:8080/"
        },
        "id": "9WB5de0VFB82",
        "outputId": "d8ba0601-4265-43d6-aed7-ccd2ccc2ce5a"
      },
      "source": [
        "model1.fit(X_train1, y_train1, validation_data=(X_val1, y_val1), epochs=10, callbacks=[cp1])"
      ],
      "execution_count": 54,
      "outputs": [
        {
          "output_type": "stream",
          "name": "stdout",
          "text": [
            "Epoch 1/10\n",
            "2192/2192 [==============================] - 15s 6ms/step - loss: 112.1704 - root_mean_squared_error: 10.5911 - val_loss: 7.7979 - val_root_mean_squared_error: 2.7925\n"
          ]
        },
        {
          "output_type": "stream",
          "name": "stderr",
          "text": [
            "WARNING:absl:Found untraced functions such as lstm_cell_2_layer_call_fn, lstm_cell_2_layer_call_and_return_conditional_losses, lstm_cell_2_layer_call_fn, lstm_cell_2_layer_call_and_return_conditional_losses, lstm_cell_2_layer_call_and_return_conditional_losses while saving (showing 5 of 5). These functions will not be directly callable after loading.\n"
          ]
        },
        {
          "output_type": "stream",
          "name": "stdout",
          "text": [
            "INFO:tensorflow:Assets written to: model1/assets\n"
          ]
        },
        {
          "output_type": "stream",
          "name": "stderr",
          "text": [
            "INFO:tensorflow:Assets written to: model1/assets\n"
          ]
        },
        {
          "output_type": "stream",
          "name": "stdout",
          "text": [
            "Epoch 2/10\n",
            "2192/2192 [==============================] - 12s 6ms/step - loss: 2.7955 - root_mean_squared_error: 1.6720 - val_loss: 1.7784 - val_root_mean_squared_error: 1.3336\n"
          ]
        },
        {
          "output_type": "stream",
          "name": "stderr",
          "text": [
            "WARNING:absl:Found untraced functions such as lstm_cell_2_layer_call_fn, lstm_cell_2_layer_call_and_return_conditional_losses, lstm_cell_2_layer_call_fn, lstm_cell_2_layer_call_and_return_conditional_losses, lstm_cell_2_layer_call_and_return_conditional_losses while saving (showing 5 of 5). These functions will not be directly callable after loading.\n"
          ]
        },
        {
          "output_type": "stream",
          "name": "stdout",
          "text": [
            "INFO:tensorflow:Assets written to: model1/assets\n"
          ]
        },
        {
          "output_type": "stream",
          "name": "stderr",
          "text": [
            "INFO:tensorflow:Assets written to: model1/assets\n"
          ]
        },
        {
          "output_type": "stream",
          "name": "stdout",
          "text": [
            "Epoch 3/10\n",
            "2192/2192 [==============================] - 13s 6ms/step - loss: 1.2885 - root_mean_squared_error: 1.1351 - val_loss: 1.4209 - val_root_mean_squared_error: 1.1920\n"
          ]
        },
        {
          "output_type": "stream",
          "name": "stderr",
          "text": [
            "WARNING:absl:Found untraced functions such as lstm_cell_2_layer_call_fn, lstm_cell_2_layer_call_and_return_conditional_losses, lstm_cell_2_layer_call_fn, lstm_cell_2_layer_call_and_return_conditional_losses, lstm_cell_2_layer_call_and_return_conditional_losses while saving (showing 5 of 5). These functions will not be directly callable after loading.\n"
          ]
        },
        {
          "output_type": "stream",
          "name": "stdout",
          "text": [
            "INFO:tensorflow:Assets written to: model1/assets\n"
          ]
        },
        {
          "output_type": "stream",
          "name": "stderr",
          "text": [
            "INFO:tensorflow:Assets written to: model1/assets\n"
          ]
        },
        {
          "output_type": "stream",
          "name": "stdout",
          "text": [
            "Epoch 4/10\n",
            "2192/2192 [==============================] - 12s 6ms/step - loss: 1.2017 - root_mean_squared_error: 1.0962 - val_loss: 1.3849 - val_root_mean_squared_error: 1.1768\n"
          ]
        },
        {
          "output_type": "stream",
          "name": "stderr",
          "text": [
            "WARNING:absl:Found untraced functions such as lstm_cell_2_layer_call_fn, lstm_cell_2_layer_call_and_return_conditional_losses, lstm_cell_2_layer_call_fn, lstm_cell_2_layer_call_and_return_conditional_losses, lstm_cell_2_layer_call_and_return_conditional_losses while saving (showing 5 of 5). These functions will not be directly callable after loading.\n"
          ]
        },
        {
          "output_type": "stream",
          "name": "stdout",
          "text": [
            "INFO:tensorflow:Assets written to: model1/assets\n"
          ]
        },
        {
          "output_type": "stream",
          "name": "stderr",
          "text": [
            "INFO:tensorflow:Assets written to: model1/assets\n"
          ]
        },
        {
          "output_type": "stream",
          "name": "stdout",
          "text": [
            "Epoch 5/10\n",
            "2192/2192 [==============================] - 12s 6ms/step - loss: 1.1752 - root_mean_squared_error: 1.0841 - val_loss: 1.3439 - val_root_mean_squared_error: 1.1593\n"
          ]
        },
        {
          "output_type": "stream",
          "name": "stderr",
          "text": [
            "WARNING:absl:Found untraced functions such as lstm_cell_2_layer_call_fn, lstm_cell_2_layer_call_and_return_conditional_losses, lstm_cell_2_layer_call_fn, lstm_cell_2_layer_call_and_return_conditional_losses, lstm_cell_2_layer_call_and_return_conditional_losses while saving (showing 5 of 5). These functions will not be directly callable after loading.\n"
          ]
        },
        {
          "output_type": "stream",
          "name": "stdout",
          "text": [
            "INFO:tensorflow:Assets written to: model1/assets\n"
          ]
        },
        {
          "output_type": "stream",
          "name": "stderr",
          "text": [
            "INFO:tensorflow:Assets written to: model1/assets\n"
          ]
        },
        {
          "output_type": "stream",
          "name": "stdout",
          "text": [
            "Epoch 6/10\n",
            "2192/2192 [==============================] - 15s 7ms/step - loss: 1.1617 - root_mean_squared_error: 1.0778 - val_loss: 1.3340 - val_root_mean_squared_error: 1.1550\n"
          ]
        },
        {
          "output_type": "stream",
          "name": "stderr",
          "text": [
            "WARNING:absl:Found untraced functions such as lstm_cell_2_layer_call_fn, lstm_cell_2_layer_call_and_return_conditional_losses, lstm_cell_2_layer_call_fn, lstm_cell_2_layer_call_and_return_conditional_losses, lstm_cell_2_layer_call_and_return_conditional_losses while saving (showing 5 of 5). These functions will not be directly callable after loading.\n"
          ]
        },
        {
          "output_type": "stream",
          "name": "stdout",
          "text": [
            "INFO:tensorflow:Assets written to: model1/assets\n"
          ]
        },
        {
          "output_type": "stream",
          "name": "stderr",
          "text": [
            "INFO:tensorflow:Assets written to: model1/assets\n"
          ]
        },
        {
          "output_type": "stream",
          "name": "stdout",
          "text": [
            "Epoch 7/10\n",
            "2192/2192 [==============================] - 21s 10ms/step - loss: 1.1496 - root_mean_squared_error: 1.0722 - val_loss: 1.3214 - val_root_mean_squared_error: 1.1495\n"
          ]
        },
        {
          "output_type": "stream",
          "name": "stderr",
          "text": [
            "WARNING:absl:Found untraced functions such as lstm_cell_2_layer_call_fn, lstm_cell_2_layer_call_and_return_conditional_losses, lstm_cell_2_layer_call_fn, lstm_cell_2_layer_call_and_return_conditional_losses, lstm_cell_2_layer_call_and_return_conditional_losses while saving (showing 5 of 5). These functions will not be directly callable after loading.\n"
          ]
        },
        {
          "output_type": "stream",
          "name": "stdout",
          "text": [
            "INFO:tensorflow:Assets written to: model1/assets\n"
          ]
        },
        {
          "output_type": "stream",
          "name": "stderr",
          "text": [
            "INFO:tensorflow:Assets written to: model1/assets\n"
          ]
        },
        {
          "output_type": "stream",
          "name": "stdout",
          "text": [
            "Epoch 8/10\n",
            "2192/2192 [==============================] - 23s 11ms/step - loss: 1.1439 - root_mean_squared_error: 1.0695 - val_loss: 1.3179 - val_root_mean_squared_error: 1.1480\n"
          ]
        },
        {
          "output_type": "stream",
          "name": "stderr",
          "text": [
            "WARNING:absl:Found untraced functions such as lstm_cell_2_layer_call_fn, lstm_cell_2_layer_call_and_return_conditional_losses, lstm_cell_2_layer_call_fn, lstm_cell_2_layer_call_and_return_conditional_losses, lstm_cell_2_layer_call_and_return_conditional_losses while saving (showing 5 of 5). These functions will not be directly callable after loading.\n"
          ]
        },
        {
          "output_type": "stream",
          "name": "stdout",
          "text": [
            "INFO:tensorflow:Assets written to: model1/assets\n"
          ]
        },
        {
          "output_type": "stream",
          "name": "stderr",
          "text": [
            "INFO:tensorflow:Assets written to: model1/assets\n"
          ]
        },
        {
          "output_type": "stream",
          "name": "stdout",
          "text": [
            "Epoch 9/10\n",
            "2192/2192 [==============================] - 21s 10ms/step - loss: 1.1389 - root_mean_squared_error: 1.0672 - val_loss: 1.3152 - val_root_mean_squared_error: 1.1468\n"
          ]
        },
        {
          "output_type": "stream",
          "name": "stderr",
          "text": [
            "WARNING:absl:Found untraced functions such as lstm_cell_2_layer_call_fn, lstm_cell_2_layer_call_and_return_conditional_losses, lstm_cell_2_layer_call_fn, lstm_cell_2_layer_call_and_return_conditional_losses, lstm_cell_2_layer_call_and_return_conditional_losses while saving (showing 5 of 5). These functions will not be directly callable after loading.\n"
          ]
        },
        {
          "output_type": "stream",
          "name": "stdout",
          "text": [
            "INFO:tensorflow:Assets written to: model1/assets\n"
          ]
        },
        {
          "output_type": "stream",
          "name": "stderr",
          "text": [
            "INFO:tensorflow:Assets written to: model1/assets\n"
          ]
        },
        {
          "output_type": "stream",
          "name": "stdout",
          "text": [
            "Epoch 10/10\n",
            "2192/2192 [==============================] - 24s 11ms/step - loss: 1.1359 - root_mean_squared_error: 1.0658 - val_loss: 1.3172 - val_root_mean_squared_error: 1.1477\n"
          ]
        },
        {
          "output_type": "execute_result",
          "data": {
            "text/plain": [
              "<keras.callbacks.History at 0x7feb66aa48d0>"
            ]
          },
          "metadata": {},
          "execution_count": 54
        }
      ]
    },
    {
      "cell_type": "code",
      "metadata": {
        "id": "6Tghrpq0FEdl"
      },
      "source": [
        "from tensorflow.keras.models import load_model\n",
        "model1 = load_model('model1/')"
      ],
      "execution_count": 55,
      "outputs": []
    },
    {
      "cell_type": "code",
      "metadata": {
        "colab": {
          "base_uri": "https://localhost:8080/",
          "height": 419
        },
        "id": "TUvO8ym3FvVu",
        "outputId": "f7317d68-6e5b-4d23-fb60-a72f59645313"
      },
      "source": [
        "train_predictions = model1.predict(X_train1).flatten()\n",
        "train_results = pd.DataFrame(data={'Train Predictions':train_predictions, 'Actuals':y_train1})\n",
        "train_results"
      ],
      "execution_count": 56,
      "outputs": [
        {
          "output_type": "execute_result",
          "data": {
            "text/html": [
              "<div>\n",
              "<style scoped>\n",
              "    .dataframe tbody tr th:only-of-type {\n",
              "        vertical-align: middle;\n",
              "    }\n",
              "\n",
              "    .dataframe tbody tr th {\n",
              "        vertical-align: top;\n",
              "    }\n",
              "\n",
              "    .dataframe thead th {\n",
              "        text-align: right;\n",
              "    }\n",
              "</style>\n",
              "<table border=\"1\" class=\"dataframe\">\n",
              "  <thead>\n",
              "    <tr style=\"text-align: right;\">\n",
              "      <th></th>\n",
              "      <th>Train Predictions</th>\n",
              "      <th>Actuals</th>\n",
              "    </tr>\n",
              "  </thead>\n",
              "  <tbody>\n",
              "    <tr>\n",
              "      <th>0</th>\n",
              "      <td>17.676220</td>\n",
              "      <td>18.2</td>\n",
              "    </tr>\n",
              "    <tr>\n",
              "      <th>1</th>\n",
              "      <td>18.346634</td>\n",
              "      <td>17.8</td>\n",
              "    </tr>\n",
              "    <tr>\n",
              "      <th>2</th>\n",
              "      <td>17.992737</td>\n",
              "      <td>18.0</td>\n",
              "    </tr>\n",
              "    <tr>\n",
              "      <th>3</th>\n",
              "      <td>18.439671</td>\n",
              "      <td>17.9</td>\n",
              "    </tr>\n",
              "    <tr>\n",
              "      <th>4</th>\n",
              "      <td>18.299328</td>\n",
              "      <td>17.9</td>\n",
              "    </tr>\n",
              "    <tr>\n",
              "      <th>...</th>\n",
              "      <td>...</td>\n",
              "      <td>...</td>\n",
              "    </tr>\n",
              "    <tr>\n",
              "      <th>70130</th>\n",
              "      <td>18.542152</td>\n",
              "      <td>18.2</td>\n",
              "    </tr>\n",
              "    <tr>\n",
              "      <th>70131</th>\n",
              "      <td>18.609730</td>\n",
              "      <td>18.4</td>\n",
              "    </tr>\n",
              "    <tr>\n",
              "      <th>70132</th>\n",
              "      <td>18.919842</td>\n",
              "      <td>18.0</td>\n",
              "    </tr>\n",
              "    <tr>\n",
              "      <th>70133</th>\n",
              "      <td>18.344669</td>\n",
              "      <td>18.7</td>\n",
              "    </tr>\n",
              "    <tr>\n",
              "      <th>70134</th>\n",
              "      <td>19.227184</td>\n",
              "      <td>19.0</td>\n",
              "    </tr>\n",
              "  </tbody>\n",
              "</table>\n",
              "<p>70135 rows × 2 columns</p>\n",
              "</div>"
            ],
            "text/plain": [
              "       Train Predictions  Actuals\n",
              "0              17.676220     18.2\n",
              "1              18.346634     17.8\n",
              "2              17.992737     18.0\n",
              "3              18.439671     17.9\n",
              "4              18.299328     17.9\n",
              "...                  ...      ...\n",
              "70130          18.542152     18.2\n",
              "70131          18.609730     18.4\n",
              "70132          18.919842     18.0\n",
              "70133          18.344669     18.7\n",
              "70134          19.227184     19.0\n",
              "\n",
              "[70135 rows x 2 columns]"
            ]
          },
          "metadata": {},
          "execution_count": 56
        }
      ]
    },
    {
      "cell_type": "code",
      "metadata": {
        "colab": {
          "base_uri": "https://localhost:8080/",
          "height": 453
        },
        "id": "bn2_SU9OFz91",
        "outputId": "58056f5c-42ed-456c-9d6c-7b1430763b76"
      },
      "source": [
        "import matplotlib.pyplot as plt\n",
        "plt.plot(train_results['Train Predictions'][50:100])\n",
        "plt.plot(train_results['Actuals'][50:100])"
      ],
      "execution_count": 57,
      "outputs": [
        {
          "output_type": "execute_result",
          "data": {
            "text/plain": [
              "[<matplotlib.lines.Line2D at 0x7feb6699d090>]"
            ]
          },
          "metadata": {},
          "execution_count": 57
        },
        {
          "output_type": "display_data",
          "data": {
            "image/png": "[encoded data removed]",
            "text/plain": [
              "<Figure size 864x504 with 1 Axes>"
            ]
          },
          "metadata": {}
        }
      ]
    },
    {
      "cell_type": "code",
      "metadata": {
        "colab": {
          "base_uri": "https://localhost:8080/",
          "height": 419
        },
        "id": "VDzCm0E4F7dd",
        "outputId": "58ba1221-e363-4e9a-d78c-ce3206b485d9"
      },
      "source": [
        "val_predictions = model1.predict(X_val1).flatten()\n",
        "val_results = pd.DataFrame(data={'Val Predictions':val_predictions, 'Actuals':y_val1})\n",
        "val_results"
      ],
      "execution_count": 58,
      "outputs": [
        {
          "output_type": "execute_result",
          "data": {
            "text/html": [
              "<div>\n",
              "<style scoped>\n",
              "    .dataframe tbody tr th:only-of-type {\n",
              "        vertical-align: middle;\n",
              "    }\n",
              "\n",
              "    .dataframe tbody tr th {\n",
              "        vertical-align: top;\n",
              "    }\n",
              "\n",
              "    .dataframe thead th {\n",
              "        text-align: right;\n",
              "    }\n",
              "</style>\n",
              "<table border=\"1\" class=\"dataframe\">\n",
              "  <thead>\n",
              "    <tr style=\"text-align: right;\">\n",
              "      <th></th>\n",
              "      <th>Val Predictions</th>\n",
              "      <th>Actuals</th>\n",
              "    </tr>\n",
              "  </thead>\n",
              "  <tbody>\n",
              "    <tr>\n",
              "      <th>0</th>\n",
              "      <td>19.550808</td>\n",
              "      <td>19.6</td>\n",
              "    </tr>\n",
              "    <tr>\n",
              "      <th>1</th>\n",
              "      <td>20.301918</td>\n",
              "      <td>22.2</td>\n",
              "    </tr>\n",
              "    <tr>\n",
              "      <th>2</th>\n",
              "      <td>23.541950</td>\n",
              "      <td>24.2</td>\n",
              "    </tr>\n",
              "    <tr>\n",
              "      <th>3</th>\n",
              "      <td>25.448238</td>\n",
              "      <td>24.8</td>\n",
              "    </tr>\n",
              "    <tr>\n",
              "      <th>4</th>\n",
              "      <td>25.653812</td>\n",
              "      <td>23.4</td>\n",
              "    </tr>\n",
              "    <tr>\n",
              "      <th>...</th>\n",
              "      <td>...</td>\n",
              "      <td>...</td>\n",
              "    </tr>\n",
              "    <tr>\n",
              "      <th>8761</th>\n",
              "      <td>23.470852</td>\n",
              "      <td>24.0</td>\n",
              "    </tr>\n",
              "    <tr>\n",
              "      <th>8762</th>\n",
              "      <td>25.043045</td>\n",
              "      <td>22.8</td>\n",
              "    </tr>\n",
              "    <tr>\n",
              "      <th>8763</th>\n",
              "      <td>23.009850</td>\n",
              "      <td>21.6</td>\n",
              "    </tr>\n",
              "    <tr>\n",
              "      <th>8764</th>\n",
              "      <td>21.325150</td>\n",
              "      <td>24.6</td>\n",
              "    </tr>\n",
              "    <tr>\n",
              "      <th>8765</th>\n",
              "      <td>24.752975</td>\n",
              "      <td>24.5</td>\n",
              "    </tr>\n",
              "  </tbody>\n",
              "</table>\n",
              "<p>8766 rows × 2 columns</p>\n",
              "</div>"
            ],
            "text/plain": [
              "      Val Predictions  Actuals\n",
              "0           19.550808     19.6\n",
              "1           20.301918     22.2\n",
              "2           23.541950     24.2\n",
              "3           25.448238     24.8\n",
              "4           25.653812     23.4\n",
              "...               ...      ...\n",
              "8761        23.470852     24.0\n",
              "8762        25.043045     22.8\n",
              "8763        23.009850     21.6\n",
              "8764        21.325150     24.6\n",
              "8765        24.752975     24.5\n",
              "\n",
              "[8766 rows x 2 columns]"
            ]
          },
          "metadata": {},
          "execution_count": 58
        }
      ]
    },
    {
      "cell_type": "code",
      "metadata": {
        "colab": {
          "base_uri": "https://localhost:8080/",
          "height": 453
        },
        "id": "8HhQ8NqALGkf",
        "outputId": "14467dc3-1708-462a-a77e-4f4158a23015"
      },
      "source": [
        "plt.plot(val_results['Val Predictions'][:50])\n",
        "plt.plot(val_results['Actuals'][:50])"
      ],
      "execution_count": 59,
      "outputs": [
        {
          "output_type": "execute_result",
          "data": {
            "text/plain": [
              "[<matplotlib.lines.Line2D at 0x7feb6271a290>]"
            ]
          },
          "metadata": {},
          "execution_count": 59
        },
        {
          "output_type": "display_data",
          "data": {
            "image/png": "[encoded data removed]",
            "text/plain": [
              "<Figure size 864x504 with 1 Axes>"
            ]
          },
          "metadata": {}
        }
      ]
    },
    {
      "cell_type": "code",
      "metadata": {
        "id": "7Xcyzw3gLKT-"
      },
      "source": [
        ""
      ],
      "execution_count": 59,
      "outputs": []
    },
    {
      "cell_type": "code",
      "metadata": {
        "colab": {
          "base_uri": "https://localhost:8080/",
          "height": 419
        },
        "id": "L0UbO4dZM2DE",
        "outputId": "59b3c5c5-c984-4d9e-917f-32db434ec180"
      },
      "source": [
        "test_predictions = model1.predict(X_test1).flatten()\n",
        "test_results = pd.DataFrame(data={'Test Predictions':test_predictions, 'Actuals':y_test1})\n",
        "test_results"
      ],
      "execution_count": 60,
      "outputs": [
        {
          "output_type": "execute_result",
          "data": {
            "text/html": [
              "<div>\n",
              "<style scoped>\n",
              "    .dataframe tbody tr th:only-of-type {\n",
              "        vertical-align: middle;\n",
              "    }\n",
              "\n",
              "    .dataframe tbody tr th {\n",
              "        vertical-align: top;\n",
              "    }\n",
              "\n",
              "    .dataframe thead th {\n",
              "        text-align: right;\n",
              "    }\n",
              "</style>\n",
              "<table border=\"1\" class=\"dataframe\">\n",
              "  <thead>\n",
              "    <tr style=\"text-align: right;\">\n",
              "      <th></th>\n",
              "      <th>Test Predictions</th>\n",
              "      <th>Actuals</th>\n",
              "    </tr>\n",
              "  </thead>\n",
              "  <tbody>\n",
              "    <tr>\n",
              "      <th>0</th>\n",
              "      <td>24.168682</td>\n",
              "      <td>20.0</td>\n",
              "    </tr>\n",
              "    <tr>\n",
              "      <th>1</th>\n",
              "      <td>20.019218</td>\n",
              "      <td>22.3</td>\n",
              "    </tr>\n",
              "    <tr>\n",
              "      <th>2</th>\n",
              "      <td>21.960865</td>\n",
              "      <td>23.9</td>\n",
              "    </tr>\n",
              "    <tr>\n",
              "      <th>3</th>\n",
              "      <td>23.710472</td>\n",
              "      <td>23.9</td>\n",
              "    </tr>\n",
              "    <tr>\n",
              "      <th>4</th>\n",
              "      <td>23.823391</td>\n",
              "      <td>21.7</td>\n",
              "    </tr>\n",
              "    <tr>\n",
              "      <th>...</th>\n",
              "      <td>...</td>\n",
              "      <td>...</td>\n",
              "    </tr>\n",
              "    <tr>\n",
              "      <th>8761</th>\n",
              "      <td>27.306305</td>\n",
              "      <td>28.1</td>\n",
              "    </tr>\n",
              "    <tr>\n",
              "      <th>8762</th>\n",
              "      <td>27.088631</td>\n",
              "      <td>23.6</td>\n",
              "    </tr>\n",
              "    <tr>\n",
              "      <th>8763</th>\n",
              "      <td>22.916912</td>\n",
              "      <td>23.6</td>\n",
              "    </tr>\n",
              "    <tr>\n",
              "      <th>8764</th>\n",
              "      <td>22.509251</td>\n",
              "      <td>22.3</td>\n",
              "    </tr>\n",
              "    <tr>\n",
              "      <th>8765</th>\n",
              "      <td>21.372425</td>\n",
              "      <td>21.3</td>\n",
              "    </tr>\n",
              "  </tbody>\n",
              "</table>\n",
              "<p>8766 rows × 2 columns</p>\n",
              "</div>"
            ],
            "text/plain": [
              "      Test Predictions  Actuals\n",
              "0            24.168682     20.0\n",
              "1            20.019218     22.3\n",
              "2            21.960865     23.9\n",
              "3            23.710472     23.9\n",
              "4            23.823391     21.7\n",
              "...                ...      ...\n",
              "8761         27.306305     28.1\n",
              "8762         27.088631     23.6\n",
              "8763         22.916912     23.6\n",
              "8764         22.509251     22.3\n",
              "8765         21.372425     21.3\n",
              "\n",
              "[8766 rows x 2 columns]"
            ]
          },
          "metadata": {},
          "execution_count": 60
        }
      ]
    },
    {
      "cell_type": "code",
      "metadata": {
        "colab": {
          "base_uri": "https://localhost:8080/",
          "height": 457
        },
        "id": "_rLKXJL1M2fB",
        "outputId": "99e17298-0e1c-4956-d782-fca09c257a8b"
      },
      "source": [
        "plt.plot(test_results['Test Predictions'][:100])\n",
        "plt.plot(test_results['Actuals'][:100])"
      ],
      "execution_count": 61,
      "outputs": [
        {
          "output_type": "execute_result",
          "data": {
            "text/plain": [
              "[<matplotlib.lines.Line2D at 0x7feb665aa750>]"
            ]
          },
          "metadata": {},
          "execution_count": 61
        },
        {
          "output_type": "display_data",
          "data": {
            "image/png": "[encoded data removed]",
            "text/plain": [
              "<Figure size 864x504 with 1 Axes>"
            ]
          },
          "metadata": {}
        }
      ]
    },
    {
      "cell_type": "code",
      "metadata": {
        "id": "B6_zes0nM4Au"
      },
      "source": [
        "from sklearn.metrics import mean_squared_error as mse\n",
        "\n",
        "def plot_predictions1(model, X, y, start=0, end=100):\n",
        "  predictions = model.predict(X).flatten()\n",
        "  df = pd.DataFrame(data={'Predictions':predictions, 'Actuals':y})\n",
        "  plt.plot(df['Predictions'][start:end])\n",
        "  plt.plot(df['Actuals'][start:end])\n",
        "  return df, mse(y, predictions)"
      ],
      "execution_count": 62,
      "outputs": []
    },
    {
      "cell_type": "code",
      "metadata": {
        "id": "HeuSBussYkBG"
      },
      "source": [
        "def train_model_conv1d(X_train, y_train, X_val, y_val, model_name, epochs=10, learning_rate=0.0001):\n",
        "  model = Sequential()\n",
        "  model.add(InputLayer((5, 1)))\n",
        "  model.add(Conv1D(64, kernel_size=2))\n",
        "  model.add(Flatten())\n",
        "  model.add(Dense(8, 'relu'))\n",
        "  model.add(Dense(1, 'linear'))\n",
        "\n",
        "\n",
        "  cp = ModelCheckpoint(f'{model_name}/', save_best_only=True)\n",
        "  model.compile(loss=MeanSquaredError(), optimizer=Adam(learning_rate=learning_rate), metrics=[RootMeanSquaredError()])\n",
        "\n",
        "  model.fit(X_train, y_train, validation_data=(X_val, y_val), epochs=epochs, callbacks=[cp])\n",
        "\n",
        "  return model"
      ],
      "execution_count": 88,
      "outputs": []
    },
    {
      "cell_type": "code",
      "metadata": {
        "colab": {
          "base_uri": "https://localhost:8080/"
        },
        "id": "bod_ILVEM_TQ",
        "outputId": "16006a68-4920-459c-ac24-e8ea541758ec"
      },
      "source": [
        "model2 = Sequential()\n",
        "model2.add(InputLayer((5, 1)))\n",
        "model2.add(Conv1D(64, kernel_size=2))\n",
        "model2.add(Flatten())\n",
        "model2.add(Dense(8, 'relu'))\n",
        "model2.add(Dense(1, 'linear'))\n",
        "\n",
        "model2.summary()"
      ],
      "execution_count": 63,
      "outputs": [
        {
          "output_type": "stream",
          "name": "stdout",
          "text": [
            "Model: \"sequential_2\"\n",
            "_________________________________________________________________\n",
            "Layer (type)                 Output Shape              Param #   \n",
            "=================================================================\n",
            "conv1d (Conv1D)              (None, 4, 64)             192       \n",
            "_________________________________________________________________\n",
            "flatten (Flatten)            (None, 256)               0         \n",
            "_________________________________________________________________\n",
            "dense_4 (Dense)              (None, 8)                 2056      \n",
            "_________________________________________________________________\n",
            "dense_5 (Dense)              (None, 1)                 9         \n",
            "=================================================================\n",
            "Total params: 2,257\n",
            "Trainable params: 2,257\n",
            "Non-trainable params: 0\n",
            "_________________________________________________________________\n"
          ]
        }
      ]
    },
    {
      "cell_type": "code",
      "metadata": {
        "colab": {
          "base_uri": "https://localhost:8080/"
        },
        "id": "LHqYwNuBN5U0",
        "outputId": "7357f65a-30d6-4baa-a7fe-eff13379f4c5"
      },
      "source": [
        "cp2 = ModelCheckpoint('model2/', save_best_only=True)\n",
        "model2.compile(loss=MeanSquaredError(), optimizer=Adam(learning_rate=0.0001), metrics=[RootMeanSquaredError()])\n",
        "\n",
        "model2.fit(X_train1, y_train1, validation_data=(X_val1, y_val1), epochs=10, callbacks=[cp2])"
      ],
      "execution_count": 65,
      "outputs": [
        {
          "output_type": "stream",
          "name": "stdout",
          "text": [
            "Epoch 1/10\n",
            "2192/2192 [==============================] - 5s 2ms/step - loss: 24.5832 - root_mean_squared_error: 4.9581 - val_loss: 2.5338 - val_root_mean_squared_error: 1.5918\n",
            "INFO:tensorflow:Assets written to: model2/assets\n"
          ]
        },
        {
          "output_type": "stream",
          "name": "stderr",
          "text": [
            "INFO:tensorflow:Assets written to: model2/assets\n"
          ]
        },
        {
          "output_type": "stream",
          "name": "stdout",
          "text": [
            "Epoch 2/10\n",
            "2192/2192 [==============================] - 4s 2ms/step - loss: 1.7317 - root_mean_squared_error: 1.3159 - val_loss: 1.7263 - val_root_mean_squared_error: 1.3139\n",
            "INFO:tensorflow:Assets written to: model2/assets\n"
          ]
        },
        {
          "output_type": "stream",
          "name": "stderr",
          "text": [
            "INFO:tensorflow:Assets written to: model2/assets\n"
          ]
        },
        {
          "output_type": "stream",
          "name": "stdout",
          "text": [
            "Epoch 3/10\n",
            "2192/2192 [==============================] - 4s 2ms/step - loss: 1.3685 - root_mean_squared_error: 1.1698 - val_loss: 1.4887 - val_root_mean_squared_error: 1.2201\n",
            "INFO:tensorflow:Assets written to: model2/assets\n"
          ]
        },
        {
          "output_type": "stream",
          "name": "stderr",
          "text": [
            "INFO:tensorflow:Assets written to: model2/assets\n"
          ]
        },
        {
          "output_type": "stream",
          "name": "stdout",
          "text": [
            "Epoch 4/10\n",
            "2192/2192 [==============================] - 5s 2ms/step - loss: 1.2797 - root_mean_squared_error: 1.1312 - val_loss: 1.4392 - val_root_mean_squared_error: 1.1996\n",
            "INFO:tensorflow:Assets written to: model2/assets\n"
          ]
        },
        {
          "output_type": "stream",
          "name": "stderr",
          "text": [
            "INFO:tensorflow:Assets written to: model2/assets\n"
          ]
        },
        {
          "output_type": "stream",
          "name": "stdout",
          "text": [
            "Epoch 5/10\n",
            "2192/2192 [==============================] - 4s 2ms/step - loss: 1.2582 - root_mean_squared_error: 1.1217 - val_loss: 1.4408 - val_root_mean_squared_error: 1.2003\n",
            "Epoch 6/10\n",
            "2192/2192 [==============================] - 4s 2ms/step - loss: 1.2498 - root_mean_squared_error: 1.1180 - val_loss: 1.4251 - val_root_mean_squared_error: 1.1938\n",
            "INFO:tensorflow:Assets written to: model2/assets\n"
          ]
        },
        {
          "output_type": "stream",
          "name": "stderr",
          "text": [
            "INFO:tensorflow:Assets written to: model2/assets\n"
          ]
        },
        {
          "output_type": "stream",
          "name": "stdout",
          "text": [
            "Epoch 7/10\n",
            "2192/2192 [==============================] - 4s 2ms/step - loss: 1.2485 - root_mean_squared_error: 1.1174 - val_loss: 1.4367 - val_root_mean_squared_error: 1.1986\n",
            "Epoch 8/10\n",
            "2192/2192 [==============================] - 4s 2ms/step - loss: 1.2487 - root_mean_squared_error: 1.1174 - val_loss: 1.4534 - val_root_mean_squared_error: 1.2056\n",
            "Epoch 9/10\n",
            "2192/2192 [==============================] - 4s 2ms/step - loss: 1.2468 - root_mean_squared_error: 1.1166 - val_loss: 1.4195 - val_root_mean_squared_error: 1.1914\n",
            "INFO:tensorflow:Assets written to: model2/assets\n"
          ]
        },
        {
          "output_type": "stream",
          "name": "stderr",
          "text": [
            "INFO:tensorflow:Assets written to: model2/assets\n"
          ]
        },
        {
          "output_type": "stream",
          "name": "stdout",
          "text": [
            "Epoch 10/10\n",
            "2192/2192 [==============================] - 4s 2ms/step - loss: 1.2446 - root_mean_squared_error: 1.1156 - val_loss: 1.4150 - val_root_mean_squared_error: 1.1895\n",
            "INFO:tensorflow:Assets written to: model2/assets\n"
          ]
        },
        {
          "output_type": "stream",
          "name": "stderr",
          "text": [
            "INFO:tensorflow:Assets written to: model2/assets\n"
          ]
        },
        {
          "output_type": "execute_result",
          "data": {
            "text/plain": [
              "<keras.callbacks.History at 0x7feb66830f50>"
            ]
          },
          "metadata": {},
          "execution_count": 65
        }
      ]
    },
    {
      "cell_type": "code",
      "metadata": {
        "colab": {
          "base_uri": "https://localhost:8080/"
        },
        "id": "KfdfhDsAN27o",
        "outputId": "4277ac06-0468-42fe-f60a-34bea4f00296"
      },
      "source": [
        "model3 = Sequential()\n",
        "model3.add(InputLayer((5, 1)))\n",
        "model3.add(GRU(64))\n",
        "model3.add(Dense(8, 'relu'))\n",
        "model3.add(Dense(1, 'linear'))\n",
        "model3.summary()"
      ],
      "execution_count": 66,
      "outputs": [
        {
          "output_type": "stream",
          "name": "stdout",
          "text": [
            "Model: \"sequential_3\"\n",
            "_________________________________________________________________\n",
            "Layer (type)                 Output Shape              Param #   \n",
            "=================================================================\n",
            "gru (GRU)                    (None, 64)                12864     \n",
            "_________________________________________________________________\n",
            "dense_6 (Dense)              (None, 8)                 520       \n",
            "_________________________________________________________________\n",
            "dense_7 (Dense)              (None, 1)                 9         \n",
            "=================================================================\n",
            "Total params: 13,393\n",
            "Trainable params: 13,393\n",
            "Non-trainable params: 0\n",
            "_________________________________________________________________\n"
          ]
        }
      ]
    },
    {
      "cell_type": "code",
      "metadata": {
        "id": "e4Kq_tGNOEGn"
      },
      "source": [
        "cp3 = ModelCheckpoint('model3/', save_best_only=True)\n",
        "model3.compile(loss=MeanSquaredError(), optimizer=Adam(learning_rate=0.0001), metrics=[RootMeanSquaredError()])"
      ],
      "execution_count": 67,
      "outputs": []
    },
    {
      "cell_type": "code",
      "metadata": {
        "colab": {
          "base_uri": "https://localhost:8080/"
        },
        "id": "ABuc_65sOHcZ",
        "outputId": "62b3fff9-df75-4b73-a5a2-10ed0694061c"
      },
      "source": [
        "model3.fit(X_train1, y_train1, validation_data=(X_val1, y_val1), epochs=10, callbacks=[cp3])"
      ],
      "execution_count": 68,
      "outputs": [
        {
          "output_type": "stream",
          "name": "stdout",
          "text": [
            "Epoch 1/10\n",
            "2192/2192 [==============================] - 15s 6ms/step - loss: 179.4865 - root_mean_squared_error: 13.3973 - val_loss: 14.4453 - val_root_mean_squared_error: 3.8007\n"
          ]
        },
        {
          "output_type": "stream",
          "name": "stderr",
          "text": [
            "WARNING:absl:Found untraced functions such as gru_cell_layer_call_fn, gru_cell_layer_call_and_return_conditional_losses, gru_cell_layer_call_fn, gru_cell_layer_call_and_return_conditional_losses, gru_cell_layer_call_and_return_conditional_losses while saving (showing 5 of 5). These functions will not be directly callable after loading.\n"
          ]
        },
        {
          "output_type": "stream",
          "name": "stdout",
          "text": [
            "INFO:tensorflow:Assets written to: model3/assets\n"
          ]
        },
        {
          "output_type": "stream",
          "name": "stderr",
          "text": [
            "INFO:tensorflow:Assets written to: model3/assets\n"
          ]
        },
        {
          "output_type": "stream",
          "name": "stdout",
          "text": [
            "Epoch 2/10\n",
            "2192/2192 [==============================] - 14s 6ms/step - loss: 4.0160 - root_mean_squared_error: 2.0040 - val_loss: 2.0650 - val_root_mean_squared_error: 1.4370\n"
          ]
        },
        {
          "output_type": "stream",
          "name": "stderr",
          "text": [
            "WARNING:absl:Found untraced functions such as gru_cell_layer_call_fn, gru_cell_layer_call_and_return_conditional_losses, gru_cell_layer_call_fn, gru_cell_layer_call_and_return_conditional_losses, gru_cell_layer_call_and_return_conditional_losses while saving (showing 5 of 5). These functions will not be directly callable after loading.\n"
          ]
        },
        {
          "output_type": "stream",
          "name": "stdout",
          "text": [
            "INFO:tensorflow:Assets written to: model3/assets\n"
          ]
        },
        {
          "output_type": "stream",
          "name": "stderr",
          "text": [
            "INFO:tensorflow:Assets written to: model3/assets\n"
          ]
        },
        {
          "output_type": "stream",
          "name": "stdout",
          "text": [
            "Epoch 3/10\n",
            "2192/2192 [==============================] - 12s 6ms/step - loss: 1.3666 - root_mean_squared_error: 1.1690 - val_loss: 1.4754 - val_root_mean_squared_error: 1.2147\n"
          ]
        },
        {
          "output_type": "stream",
          "name": "stderr",
          "text": [
            "WARNING:absl:Found untraced functions such as gru_cell_layer_call_fn, gru_cell_layer_call_and_return_conditional_losses, gru_cell_layer_call_fn, gru_cell_layer_call_and_return_conditional_losses, gru_cell_layer_call_and_return_conditional_losses while saving (showing 5 of 5). These functions will not be directly callable after loading.\n"
          ]
        },
        {
          "output_type": "stream",
          "name": "stdout",
          "text": [
            "INFO:tensorflow:Assets written to: model3/assets\n"
          ]
        },
        {
          "output_type": "stream",
          "name": "stderr",
          "text": [
            "INFO:tensorflow:Assets written to: model3/assets\n"
          ]
        },
        {
          "output_type": "stream",
          "name": "stdout",
          "text": [
            "Epoch 4/10\n",
            "2192/2192 [==============================] - 13s 6ms/step - loss: 1.2079 - root_mean_squared_error: 1.0990 - val_loss: 1.3975 - val_root_mean_squared_error: 1.1821\n"
          ]
        },
        {
          "output_type": "stream",
          "name": "stderr",
          "text": [
            "WARNING:absl:Found untraced functions such as gru_cell_layer_call_fn, gru_cell_layer_call_and_return_conditional_losses, gru_cell_layer_call_fn, gru_cell_layer_call_and_return_conditional_losses, gru_cell_layer_call_and_return_conditional_losses while saving (showing 5 of 5). These functions will not be directly callable after loading.\n"
          ]
        },
        {
          "output_type": "stream",
          "name": "stdout",
          "text": [
            "INFO:tensorflow:Assets written to: model3/assets\n"
          ]
        },
        {
          "output_type": "stream",
          "name": "stderr",
          "text": [
            "INFO:tensorflow:Assets written to: model3/assets\n"
          ]
        },
        {
          "output_type": "stream",
          "name": "stdout",
          "text": [
            "Epoch 5/10\n",
            "2192/2192 [==============================] - 13s 6ms/step - loss: 1.1684 - root_mean_squared_error: 1.0809 - val_loss: 1.3486 - val_root_mean_squared_error: 1.1613\n"
          ]
        },
        {
          "output_type": "stream",
          "name": "stderr",
          "text": [
            "WARNING:absl:Found untraced functions such as gru_cell_layer_call_fn, gru_cell_layer_call_and_return_conditional_losses, gru_cell_layer_call_fn, gru_cell_layer_call_and_return_conditional_losses, gru_cell_layer_call_and_return_conditional_losses while saving (showing 5 of 5). These functions will not be directly callable after loading.\n"
          ]
        },
        {
          "output_type": "stream",
          "name": "stdout",
          "text": [
            "INFO:tensorflow:Assets written to: model3/assets\n"
          ]
        },
        {
          "output_type": "stream",
          "name": "stderr",
          "text": [
            "INFO:tensorflow:Assets written to: model3/assets\n"
          ]
        },
        {
          "output_type": "stream",
          "name": "stdout",
          "text": [
            "Epoch 6/10\n",
            "2192/2192 [==============================] - 13s 6ms/step - loss: 1.1492 - root_mean_squared_error: 1.0720 - val_loss: 1.3305 - val_root_mean_squared_error: 1.1535\n"
          ]
        },
        {
          "output_type": "stream",
          "name": "stderr",
          "text": [
            "WARNING:absl:Found untraced functions such as gru_cell_layer_call_fn, gru_cell_layer_call_and_return_conditional_losses, gru_cell_layer_call_fn, gru_cell_layer_call_and_return_conditional_losses, gru_cell_layer_call_and_return_conditional_losses while saving (showing 5 of 5). These functions will not be directly callable after loading.\n"
          ]
        },
        {
          "output_type": "stream",
          "name": "stdout",
          "text": [
            "INFO:tensorflow:Assets written to: model3/assets\n"
          ]
        },
        {
          "output_type": "stream",
          "name": "stderr",
          "text": [
            "INFO:tensorflow:Assets written to: model3/assets\n"
          ]
        },
        {
          "output_type": "stream",
          "name": "stdout",
          "text": [
            "Epoch 7/10\n",
            "2192/2192 [==============================] - 13s 6ms/step - loss: 1.1418 - root_mean_squared_error: 1.0685 - val_loss: 1.3431 - val_root_mean_squared_error: 1.1589\n",
            "Epoch 8/10\n",
            "2192/2192 [==============================] - 13s 6ms/step - loss: 1.1371 - root_mean_squared_error: 1.0663 - val_loss: 1.3140 - val_root_mean_squared_error: 1.1463\n"
          ]
        },
        {
          "output_type": "stream",
          "name": "stderr",
          "text": [
            "WARNING:absl:Found untraced functions such as gru_cell_layer_call_fn, gru_cell_layer_call_and_return_conditional_losses, gru_cell_layer_call_fn, gru_cell_layer_call_and_return_conditional_losses, gru_cell_layer_call_and_return_conditional_losses while saving (showing 5 of 5). These functions will not be directly callable after loading.\n"
          ]
        },
        {
          "output_type": "stream",
          "name": "stdout",
          "text": [
            "INFO:tensorflow:Assets written to: model3/assets\n"
          ]
        },
        {
          "output_type": "stream",
          "name": "stderr",
          "text": [
            "INFO:tensorflow:Assets written to: model3/assets\n"
          ]
        },
        {
          "output_type": "stream",
          "name": "stdout",
          "text": [
            "Epoch 9/10\n",
            "2192/2192 [==============================] - 14s 6ms/step - loss: 1.1325 - root_mean_squared_error: 1.0642 - val_loss: 1.4001 - val_root_mean_squared_error: 1.1833\n",
            "Epoch 10/10\n",
            "2192/2192 [==============================] - 14s 6ms/step - loss: 1.1318 - root_mean_squared_error: 1.0639 - val_loss: 1.3094 - val_root_mean_squared_error: 1.1443\n"
          ]
        },
        {
          "output_type": "stream",
          "name": "stderr",
          "text": [
            "WARNING:absl:Found untraced functions such as gru_cell_layer_call_fn, gru_cell_layer_call_and_return_conditional_losses, gru_cell_layer_call_fn, gru_cell_layer_call_and_return_conditional_losses, gru_cell_layer_call_and_return_conditional_losses while saving (showing 5 of 5). These functions will not be directly callable after loading.\n"
          ]
        },
        {
          "output_type": "stream",
          "name": "stdout",
          "text": [
            "INFO:tensorflow:Assets written to: model3/assets\n"
          ]
        },
        {
          "output_type": "stream",
          "name": "stderr",
          "text": [
            "INFO:tensorflow:Assets written to: model3/assets\n"
          ]
        },
        {
          "output_type": "execute_result",
          "data": {
            "text/plain": [
              "<keras.callbacks.History at 0x7feb6f0dc450>"
            ]
          },
          "metadata": {},
          "execution_count": 68
        }
      ]
    },
    {
      "cell_type": "code",
      "metadata": {
        "colab": {
          "base_uri": "https://localhost:8080/",
          "height": 450
        },
        "id": "ED-P8PrqOIev",
        "outputId": "e54c3b5e-f689-4d3b-d9e6-13431203e086"
      },
      "source": [
        "temp_df = pd.DataFrame({'Temperature':temperature_df})\n",
        "temp_df['Seconds'] = temp_df.index.map(pd.Timestamp.timestamp)\n",
        "temp_df"
      ],
      "execution_count": 69,
      "outputs": [
        {
          "output_type": "execute_result",
          "data": {
            "text/html": [
              "<div>\n",
              "<style scoped>\n",
              "    .dataframe tbody tr th:only-of-type {\n",
              "        vertical-align: middle;\n",
              "    }\n",
              "\n",
              "    .dataframe tbody tr th {\n",
              "        vertical-align: top;\n",
              "    }\n",
              "\n",
              "    .dataframe thead th {\n",
              "        text-align: right;\n",
              "    }\n",
              "</style>\n",
              "<table border=\"1\" class=\"dataframe\">\n",
              "  <thead>\n",
              "    <tr style=\"text-align: right;\">\n",
              "      <th></th>\n",
              "      <th>Temperature</th>\n",
              "      <th>Seconds</th>\n",
              "    </tr>\n",
              "    <tr>\n",
              "      <th>datetime</th>\n",
              "      <th></th>\n",
              "      <th></th>\n",
              "    </tr>\n",
              "  </thead>\n",
              "  <tbody>\n",
              "    <tr>\n",
              "      <th>2011-01-01 00:00:00</th>\n",
              "      <td>19.2</td>\n",
              "      <td>1.293840e+09</td>\n",
              "    </tr>\n",
              "    <tr>\n",
              "      <th>2011-01-01 01:00:00</th>\n",
              "      <td>19.3</td>\n",
              "      <td>1.293844e+09</td>\n",
              "    </tr>\n",
              "    <tr>\n",
              "      <th>2011-01-01 02:00:00</th>\n",
              "      <td>19.1</td>\n",
              "      <td>1.293847e+09</td>\n",
              "    </tr>\n",
              "    <tr>\n",
              "      <th>2011-01-01 03:00:00</th>\n",
              "      <td>18.1</td>\n",
              "      <td>1.293851e+09</td>\n",
              "    </tr>\n",
              "    <tr>\n",
              "      <th>2011-01-01 04:00:00</th>\n",
              "      <td>17.7</td>\n",
              "      <td>1.293854e+09</td>\n",
              "    </tr>\n",
              "    <tr>\n",
              "      <th>...</th>\n",
              "      <td>...</td>\n",
              "      <td>...</td>\n",
              "    </tr>\n",
              "    <tr>\n",
              "      <th>2020-12-31 19:00:00</th>\n",
              "      <td>28.1</td>\n",
              "      <td>1.609441e+09</td>\n",
              "    </tr>\n",
              "    <tr>\n",
              "      <th>2020-12-31 20:00:00</th>\n",
              "      <td>23.6</td>\n",
              "      <td>1.609445e+09</td>\n",
              "    </tr>\n",
              "    <tr>\n",
              "      <th>2020-12-31 21:00:00</th>\n",
              "      <td>23.6</td>\n",
              "      <td>1.609448e+09</td>\n",
              "    </tr>\n",
              "    <tr>\n",
              "      <th>2020-12-31 22:00:00</th>\n",
              "      <td>22.3</td>\n",
              "      <td>1.609452e+09</td>\n",
              "    </tr>\n",
              "    <tr>\n",
              "      <th>2020-12-31 23:00:00</th>\n",
              "      <td>21.3</td>\n",
              "      <td>1.609456e+09</td>\n",
              "    </tr>\n",
              "  </tbody>\n",
              "</table>\n",
              "<p>87672 rows × 2 columns</p>\n",
              "</div>"
            ],
            "text/plain": [
              "                     Temperature       Seconds\n",
              "datetime                                      \n",
              "2011-01-01 00:00:00         19.2  1.293840e+09\n",
              "2011-01-01 01:00:00         19.3  1.293844e+09\n",
              "2011-01-01 02:00:00         19.1  1.293847e+09\n",
              "2011-01-01 03:00:00         18.1  1.293851e+09\n",
              "2011-01-01 04:00:00         17.7  1.293854e+09\n",
              "...                          ...           ...\n",
              "2020-12-31 19:00:00         28.1  1.609441e+09\n",
              "2020-12-31 20:00:00         23.6  1.609445e+09\n",
              "2020-12-31 21:00:00         23.6  1.609448e+09\n",
              "2020-12-31 22:00:00         22.3  1.609452e+09\n",
              "2020-12-31 23:00:00         21.3  1.609456e+09\n",
              "\n",
              "[87672 rows x 2 columns]"
            ]
          },
          "metadata": {},
          "execution_count": 69
        }
      ]
    },
    {
      "cell_type": "code",
      "metadata": {
        "colab": {
          "base_uri": "https://localhost:8080/",
          "height": 235
        },
        "id": "ixzjA2zWOXKf",
        "outputId": "98cf5c70-6847-441f-8d5c-aee5986a62cd"
      },
      "source": [
        "day = 60*60*24\n",
        "year = 365.2425*day\n",
        "\n",
        "temp_df['Day sin'] = np.sin(temp_df['Seconds'] * (2* np.pi / day))\n",
        "temp_df['Day cos'] = np.cos(temp_df['Seconds'] * (2 * np.pi / day))\n",
        "temp_df['Year sin'] = np.sin(temp_df['Seconds'] * (2 * np.pi / year))\n",
        "temp_df['Year cos'] = np.cos(temp_df['Seconds'] * (2 * np.pi / year))\n",
        "temp_df.head()"
      ],
      "execution_count": 70,
      "outputs": [
        {
          "output_type": "execute_result",
          "data": {
            "text/html": [
              "<div>\n",
              "<style scoped>\n",
              "    .dataframe tbody tr th:only-of-type {\n",
              "        vertical-align: middle;\n",
              "    }\n",
              "\n",
              "    .dataframe tbody tr th {\n",
              "        vertical-align: top;\n",
              "    }\n",
              "\n",
              "    .dataframe thead th {\n",
              "        text-align: right;\n",
              "    }\n",
              "</style>\n",
              "<table border=\"1\" class=\"dataframe\">\n",
              "  <thead>\n",
              "    <tr style=\"text-align: right;\">\n",
              "      <th></th>\n",
              "      <th>Temperature</th>\n",
              "      <th>Seconds</th>\n",
              "      <th>Day sin</th>\n",
              "      <th>Day cos</th>\n",
              "      <th>Year sin</th>\n",
              "      <th>Year cos</th>\n",
              "    </tr>\n",
              "    <tr>\n",
              "      <th>datetime</th>\n",
              "      <th></th>\n",
              "      <th></th>\n",
              "      <th></th>\n",
              "      <th></th>\n",
              "      <th></th>\n",
              "      <th></th>\n",
              "    </tr>\n",
              "  </thead>\n",
              "  <tbody>\n",
              "    <tr>\n",
              "      <th>2011-01-01 00:00:00</th>\n",
              "      <td>19.2</td>\n",
              "      <td>1.293840e+09</td>\n",
              "      <td>-7.057106e-12</td>\n",
              "      <td>1.000000</td>\n",
              "      <td>0.000989</td>\n",
              "      <td>1.000000</td>\n",
              "    </tr>\n",
              "    <tr>\n",
              "      <th>2011-01-01 01:00:00</th>\n",
              "      <td>19.3</td>\n",
              "      <td>1.293844e+09</td>\n",
              "      <td>2.588190e-01</td>\n",
              "      <td>0.965926</td>\n",
              "      <td>0.001706</td>\n",
              "      <td>0.999999</td>\n",
              "    </tr>\n",
              "    <tr>\n",
              "      <th>2011-01-01 02:00:00</th>\n",
              "      <td>19.1</td>\n",
              "      <td>1.293847e+09</td>\n",
              "      <td>5.000000e-01</td>\n",
              "      <td>0.866025</td>\n",
              "      <td>0.002423</td>\n",
              "      <td>0.999997</td>\n",
              "    </tr>\n",
              "    <tr>\n",
              "      <th>2011-01-01 03:00:00</th>\n",
              "      <td>18.1</td>\n",
              "      <td>1.293851e+09</td>\n",
              "      <td>7.071068e-01</td>\n",
              "      <td>0.707107</td>\n",
              "      <td>0.003140</td>\n",
              "      <td>0.999995</td>\n",
              "    </tr>\n",
              "    <tr>\n",
              "      <th>2011-01-01 04:00:00</th>\n",
              "      <td>17.7</td>\n",
              "      <td>1.293854e+09</td>\n",
              "      <td>8.660254e-01</td>\n",
              "      <td>0.500000</td>\n",
              "      <td>0.003856</td>\n",
              "      <td>0.999993</td>\n",
              "    </tr>\n",
              "  </tbody>\n",
              "</table>\n",
              "</div>"
            ],
            "text/plain": [
              "                     Temperature       Seconds  ...  Year sin  Year cos\n",
              "datetime                                        ...                    \n",
              "2011-01-01 00:00:00         19.2  1.293840e+09  ...  0.000989  1.000000\n",
              "2011-01-01 01:00:00         19.3  1.293844e+09  ...  0.001706  0.999999\n",
              "2011-01-01 02:00:00         19.1  1.293847e+09  ...  0.002423  0.999997\n",
              "2011-01-01 03:00:00         18.1  1.293851e+09  ...  0.003140  0.999995\n",
              "2011-01-01 04:00:00         17.7  1.293854e+09  ...  0.003856  0.999993\n",
              "\n",
              "[5 rows x 6 columns]"
            ]
          },
          "metadata": {},
          "execution_count": 70
        }
      ]
    },
    {
      "cell_type": "code",
      "metadata": {
        "colab": {
          "base_uri": "https://localhost:8080/",
          "height": 235
        },
        "id": "j1CtNf4jOioV",
        "outputId": "04b0406b-ae82-4782-c193-bbde8b557131"
      },
      "source": [
        "temp_df = temp_df.drop('Seconds', axis=1)\n",
        "temp_df.head()"
      ],
      "execution_count": 71,
      "outputs": [
        {
          "output_type": "execute_result",
          "data": {
            "text/html": [
              "<div>\n",
              "<style scoped>\n",
              "    .dataframe tbody tr th:only-of-type {\n",
              "        vertical-align: middle;\n",
              "    }\n",
              "\n",
              "    .dataframe tbody tr th {\n",
              "        vertical-align: top;\n",
              "    }\n",
              "\n",
              "    .dataframe thead th {\n",
              "        text-align: right;\n",
              "    }\n",
              "</style>\n",
              "<table border=\"1\" class=\"dataframe\">\n",
              "  <thead>\n",
              "    <tr style=\"text-align: right;\">\n",
              "      <th></th>\n",
              "      <th>Temperature</th>\n",
              "      <th>Day sin</th>\n",
              "      <th>Day cos</th>\n",
              "      <th>Year sin</th>\n",
              "      <th>Year cos</th>\n",
              "    </tr>\n",
              "    <tr>\n",
              "      <th>datetime</th>\n",
              "      <th></th>\n",
              "      <th></th>\n",
              "      <th></th>\n",
              "      <th></th>\n",
              "      <th></th>\n",
              "    </tr>\n",
              "  </thead>\n",
              "  <tbody>\n",
              "    <tr>\n",
              "      <th>2011-01-01 00:00:00</th>\n",
              "      <td>19.2</td>\n",
              "      <td>-7.057106e-12</td>\n",
              "      <td>1.000000</td>\n",
              "      <td>0.000989</td>\n",
              "      <td>1.000000</td>\n",
              "    </tr>\n",
              "    <tr>\n",
              "      <th>2011-01-01 01:00:00</th>\n",
              "      <td>19.3</td>\n",
              "      <td>2.588190e-01</td>\n",
              "      <td>0.965926</td>\n",
              "      <td>0.001706</td>\n",
              "      <td>0.999999</td>\n",
              "    </tr>\n",
              "    <tr>\n",
              "      <th>2011-01-01 02:00:00</th>\n",
              "      <td>19.1</td>\n",
              "      <td>5.000000e-01</td>\n",
              "      <td>0.866025</td>\n",
              "      <td>0.002423</td>\n",
              "      <td>0.999997</td>\n",
              "    </tr>\n",
              "    <tr>\n",
              "      <th>2011-01-01 03:00:00</th>\n",
              "      <td>18.1</td>\n",
              "      <td>7.071068e-01</td>\n",
              "      <td>0.707107</td>\n",
              "      <td>0.003140</td>\n",
              "      <td>0.999995</td>\n",
              "    </tr>\n",
              "    <tr>\n",
              "      <th>2011-01-01 04:00:00</th>\n",
              "      <td>17.7</td>\n",
              "      <td>8.660254e-01</td>\n",
              "      <td>0.500000</td>\n",
              "      <td>0.003856</td>\n",
              "      <td>0.999993</td>\n",
              "    </tr>\n",
              "  </tbody>\n",
              "</table>\n",
              "</div>"
            ],
            "text/plain": [
              "                     Temperature       Day sin   Day cos  Year sin  Year cos\n",
              "datetime                                                                    \n",
              "2011-01-01 00:00:00         19.2 -7.057106e-12  1.000000  0.000989  1.000000\n",
              "2011-01-01 01:00:00         19.3  2.588190e-01  0.965926  0.001706  0.999999\n",
              "2011-01-01 02:00:00         19.1  5.000000e-01  0.866025  0.002423  0.999997\n",
              "2011-01-01 03:00:00         18.1  7.071068e-01  0.707107  0.003140  0.999995\n",
              "2011-01-01 04:00:00         17.7  8.660254e-01  0.500000  0.003856  0.999993"
            ]
          },
          "metadata": {},
          "execution_count": 71
        }
      ]
    },
    {
      "cell_type": "code",
      "metadata": {
        "id": "5OZDNtYvOl8p"
      },
      "source": [
        "def df_to_X_y2(df, window_size=6):\n",
        "  df_as_np = df.to_numpy()\n",
        "  X = []\n",
        "  y = []\n",
        "  for i in range(len(df_as_np)-window_size):\n",
        "    row = [r for r in df_as_np[i:i+window_size]]\n",
        "    X.append(row)\n",
        "    label = df_as_np[i+window_size][0]\n",
        "    y.append(label)\n",
        "  return np.array(X), np.array(y)"
      ],
      "execution_count": 72,
      "outputs": []
    },
    {
      "cell_type": "code",
      "metadata": {
        "colab": {
          "base_uri": "https://localhost:8080/"
        },
        "id": "CXSOg2cYPeEv",
        "outputId": "3f9329d8-b131-42d6-f4bf-4fd344c43c9a"
      },
      "source": [
        "X2, y2 = df_to_X_y2(temp_df)\n",
        "X2.shape, y2.shape"
      ],
      "execution_count": 73,
      "outputs": [
        {
          "output_type": "execute_result",
          "data": {
            "text/plain": [
              "((87666, 6, 5), (87666,))"
            ]
          },
          "metadata": {},
          "execution_count": 73
        }
      ]
    },
    {
      "cell_type": "code",
      "metadata": {
        "id": "9Y5TdSsUPxis"
      },
      "source": [
        "total_len = len(X2)\n",
        "test_val_len = int(total_len * 0.10)\n",
        "train_len = total_len - (2*test_val_len)"
      ],
      "execution_count": 74,
      "outputs": []
    },
    {
      "cell_type": "code",
      "metadata": {
        "colab": {
          "base_uri": "https://localhost:8080/"
        },
        "id": "okxWaTvtPgen",
        "outputId": "cb2009b0-4da3-48a4-883d-2f8f0b650713"
      },
      "source": [
        "X2_train, y2_train = X2[:train_len], y2[:train_len]\n",
        "X2_val, y2_val = X2[train_len:train_len + test_val_len], y2[train_len:train_len + test_val_len]\n",
        "X2_test, y2_test = X2[train_len + test_val_len:], y2[train_len + test_val_len:]\n",
        "X2_train.shape, y2_train.shape, X2_val.shape, y2_val.shape, X2_test.shape, y2_test.shape"
      ],
      "execution_count": 75,
      "outputs": [
        {
          "output_type": "execute_result",
          "data": {
            "text/plain": [
              "((70134, 6, 5), (70134,), (8766, 6, 5), (8766,), (8766, 6, 5), (8766,))"
            ]
          },
          "metadata": {},
          "execution_count": 75
        }
      ]
    },
    {
      "cell_type": "code",
      "metadata": {
        "id": "LU6G6IbXP_Wm"
      },
      "source": [
        "temp_training_mean = np.mean(X2_train[:, :, 0])\n",
        "temp_training_std = np.std(X2_train[:, :, 0])\n",
        "                           \n",
        "def preprocess(X):\n",
        "  X[:, :, 0] = (X[:, :, 0] - temp_training_mean) / temp_training_std\n",
        "  return X"
      ],
      "execution_count": 76,
      "outputs": []
    },
    {
      "cell_type": "code",
      "metadata": {
        "colab": {
          "base_uri": "https://localhost:8080/"
        },
        "id": "WjbcPZGDQSMv",
        "outputId": "6ce32c5e-474e-4020-a28b-4f1c5cd29536"
      },
      "source": [
        "preprocess(X2_train)\n",
        "preprocess(X2_val)\n",
        "preprocess(X2_test)"
      ],
      "execution_count": 77,
      "outputs": [
        {
          "output_type": "execute_result",
          "data": {
            "text/plain": [
              "array([[[ 2.46936515e-01,  1.27970306e-11, -1.00000000e+00,\n",
              "          6.45099666e-03,  9.99979192e-01],\n",
              "        [ 6.71751625e-01, -2.58819045e-01, -9.65925826e-01,\n",
              "          7.16776241e-03,  9.99974311e-01],\n",
              "        [ 3.53140293e-01, -5.00000000e-01, -8.66025404e-01,\n",
              "          7.88452447e-03,  9.99968917e-01],\n",
              "        [ 3.45289604e-02, -7.07106781e-01, -7.07106781e-01,\n",
              "          8.60128248e-03,  9.99963008e-01],\n",
              "        [ 8.31057292e-01, -8.66025404e-01, -5.00000000e-01,\n",
              "          9.31803607e-03,  9.99956586e-01],\n",
              "        [ 8.04506347e-01, -9.65925826e-01, -2.58819045e-01,\n",
              "          1.00347849e-02,  9.99949650e-01]],\n",
              "\n",
              "       [[ 6.71751625e-01, -2.58819045e-01, -9.65925826e-01,\n",
              "          7.16776241e-03,  9.99974311e-01],\n",
              "        [ 3.53140293e-01, -5.00000000e-01, -8.66025404e-01,\n",
              "          7.88452447e-03,  9.99968917e-01],\n",
              "        [ 3.45289604e-02, -7.07106781e-01, -7.07106781e-01,\n",
              "          8.60128248e-03,  9.99963008e-01],\n",
              "        [ 8.31057292e-01, -8.66025404e-01, -5.00000000e-01,\n",
              "          9.31803607e-03,  9.99956586e-01],\n",
              "        [ 8.04506347e-01, -9.65925826e-01, -2.58819045e-01,\n",
              "          1.00347849e-02,  9.99949650e-01],\n",
              "        [-3.90286150e-01, -1.00000000e+00, -8.08459507e-13,\n",
              "          1.07515285e-02,  9.99942201e-01]],\n",
              "\n",
              "       [[ 3.53140293e-01, -5.00000000e-01, -8.66025404e-01,\n",
              "          7.88452447e-03,  9.99968917e-01],\n",
              "        [ 3.45289604e-02, -7.07106781e-01, -7.07106781e-01,\n",
              "          8.60128248e-03,  9.99963008e-01],\n",
              "        [ 8.31057292e-01, -8.66025404e-01, -5.00000000e-01,\n",
              "          9.31803607e-03,  9.99956586e-01],\n",
              "        [ 8.04506347e-01, -9.65925826e-01, -2.58819045e-01,\n",
              "          1.00347849e-02,  9.99949650e-01],\n",
              "        [-3.90286150e-01, -1.00000000e+00, -8.08459507e-13,\n",
              "          1.07515285e-02,  9.99942201e-01],\n",
              "        [ 2.20385571e-01, -9.65925826e-01,  2.58819045e-01,\n",
              "          1.14682667e-02,  9.99934237e-01]],\n",
              "\n",
              "       ...,\n",
              "\n",
              "       [[ 1.89309507e+00, -7.07106781e-01, -7.07106781e-01,\n",
              "          4.42970061e-03,  9.99990189e-01],\n",
              "        [ 2.05240073e+00, -8.66025404e-01, -5.00000000e-01,\n",
              "          5.14647476e-03,  9.99986757e-01],\n",
              "        [ 1.76034034e+00, -9.65925826e-01, -2.58819045e-01,\n",
              "          5.86324626e-03,  9.99982811e-01],\n",
              "        [ 1.76034034e+00, -1.00000000e+00, -3.44870714e-12,\n",
              "          6.58001475e-03,  9.99978351e-01],\n",
              "        [ 1.76034034e+00, -9.65925826e-01,  2.58819045e-01,\n",
              "          7.29677986e-03,  9.99973378e-01],\n",
              "        [ 5.65547848e-01, -8.66025404e-01,  5.00000000e-01,\n",
              "          8.01354122e-03,  9.99967891e-01]],\n",
              "\n",
              "       [[ 2.05240073e+00, -8.66025404e-01, -5.00000000e-01,\n",
              "          5.14647476e-03,  9.99986757e-01],\n",
              "        [ 1.76034034e+00, -9.65925826e-01, -2.58819045e-01,\n",
              "          5.86324626e-03,  9.99982811e-01],\n",
              "        [ 1.76034034e+00, -1.00000000e+00, -3.44870714e-12,\n",
              "          6.58001475e-03,  9.99978351e-01],\n",
              "        [ 1.76034034e+00, -9.65925826e-01,  2.58819045e-01,\n",
              "          7.29677986e-03,  9.99973378e-01],\n",
              "        [ 5.65547848e-01, -8.66025404e-01,  5.00000000e-01,\n",
              "          8.01354122e-03,  9.99967891e-01],\n",
              "        [ 5.65547848e-01, -7.07106781e-01,  7.07106781e-01,\n",
              "          8.73029846e-03,  9.99961890e-01]],\n",
              "\n",
              "       [[ 1.76034034e+00, -9.65925826e-01, -2.58819045e-01,\n",
              "          5.86324626e-03,  9.99982811e-01],\n",
              "        [ 1.76034034e+00, -1.00000000e+00, -3.44870714e-12,\n",
              "          6.58001475e-03,  9.99978351e-01],\n",
              "        [ 1.76034034e+00, -9.65925826e-01,  2.58819045e-01,\n",
              "          7.29677986e-03,  9.99973378e-01],\n",
              "        [ 5.65547848e-01, -8.66025404e-01,  5.00000000e-01,\n",
              "          8.01354122e-03,  9.99967891e-01],\n",
              "        [ 5.65547848e-01, -7.07106781e-01,  7.07106781e-01,\n",
              "          8.73029846e-03,  9.99961890e-01],\n",
              "        [ 2.20385571e-01, -5.00000000e-01,  8.66025404e-01,\n",
              "          9.44705122e-03,  9.99955376e-01]]])"
            ]
          },
          "metadata": {},
          "execution_count": 77
        }
      ]
    },
    {
      "cell_type": "code",
      "metadata": {
        "colab": {
          "base_uri": "https://localhost:8080/"
        },
        "id": "mQGK-55UQUKP",
        "outputId": "c09f09b8-91f4-4ac4-b666-bf03c50ac4ad"
      },
      "source": [
        "model4 = Sequential()\n",
        "model4.add(InputLayer((6, 5)))\n",
        "model4.add(LSTM(64))\n",
        "model4.add(Dense(8, 'relu'))\n",
        "model4.add(Dense(1, 'linear'))\n",
        "\n",
        "model4.summary()"
      ],
      "execution_count": 78,
      "outputs": [
        {
          "output_type": "stream",
          "name": "stdout",
          "text": [
            "Model: \"sequential_4\"\n",
            "_________________________________________________________________\n",
            "Layer (type)                 Output Shape              Param #   \n",
            "=================================================================\n",
            "lstm_2 (LSTM)                (None, 64)                17920     \n",
            "_________________________________________________________________\n",
            "dense_8 (Dense)              (None, 8)                 520       \n",
            "_________________________________________________________________\n",
            "dense_9 (Dense)              (None, 1)                 9         \n",
            "=================================================================\n",
            "Total params: 18,449\n",
            "Trainable params: 18,449\n",
            "Non-trainable params: 0\n",
            "_________________________________________________________________\n"
          ]
        }
      ]
    },
    {
      "cell_type": "code",
      "metadata": {
        "id": "4Z29UqkrQZUf"
      },
      "source": [
        "cp4 = ModelCheckpoint('model4/', save_best_only=True)\n",
        "model4.compile(loss=MeanSquaredError(), optimizer=Adam(learning_rate=0.0001), metrics=[RootMeanSquaredError()])"
      ],
      "execution_count": 79,
      "outputs": []
    },
    {
      "cell_type": "code",
      "metadata": {
        "colab": {
          "base_uri": "https://localhost:8080/"
        },
        "id": "itEhto7zQcQn",
        "outputId": "a6091893-6f93-427e-abc6-96c2c0e33229"
      },
      "source": [
        "model4.fit(X2_train, y2_train, validation_data=(X2_val, y2_val), epochs=10, callbacks=[cp4])"
      ],
      "execution_count": 80,
      "outputs": [
        {
          "output_type": "stream",
          "name": "stdout",
          "text": [
            "Epoch 1/10\n",
            "2192/2192 [==============================] - 15s 6ms/step - loss: 120.1809 - root_mean_squared_error: 10.9627 - val_loss: 8.4859 - val_root_mean_squared_error: 2.9131\n"
          ]
        },
        {
          "output_type": "stream",
          "name": "stderr",
          "text": [
            "WARNING:absl:Found untraced functions such as lstm_cell_4_layer_call_fn, lstm_cell_4_layer_call_and_return_conditional_losses, lstm_cell_4_layer_call_fn, lstm_cell_4_layer_call_and_return_conditional_losses, lstm_cell_4_layer_call_and_return_conditional_losses while saving (showing 5 of 5). These functions will not be directly callable after loading.\n"
          ]
        },
        {
          "output_type": "stream",
          "name": "stdout",
          "text": [
            "INFO:tensorflow:Assets written to: model4/assets\n"
          ]
        },
        {
          "output_type": "stream",
          "name": "stderr",
          "text": [
            "INFO:tensorflow:Assets written to: model4/assets\n"
          ]
        },
        {
          "output_type": "stream",
          "name": "stdout",
          "text": [
            "Epoch 2/10\n",
            "2192/2192 [==============================] - 12s 5ms/step - loss: 3.6576 - root_mean_squared_error: 1.9125 - val_loss: 2.2826 - val_root_mean_squared_error: 1.5108\n"
          ]
        },
        {
          "output_type": "stream",
          "name": "stderr",
          "text": [
            "WARNING:absl:Found untraced functions such as lstm_cell_4_layer_call_fn, lstm_cell_4_layer_call_and_return_conditional_losses, lstm_cell_4_layer_call_fn, lstm_cell_4_layer_call_and_return_conditional_losses, lstm_cell_4_layer_call_and_return_conditional_losses while saving (showing 5 of 5). These functions will not be directly callable after loading.\n"
          ]
        },
        {
          "output_type": "stream",
          "name": "stdout",
          "text": [
            "INFO:tensorflow:Assets written to: model4/assets\n"
          ]
        },
        {
          "output_type": "stream",
          "name": "stderr",
          "text": [
            "INFO:tensorflow:Assets written to: model4/assets\n"
          ]
        },
        {
          "output_type": "stream",
          "name": "stdout",
          "text": [
            "Epoch 3/10\n",
            "2192/2192 [==============================] - 12s 5ms/step - loss: 1.4995 - root_mean_squared_error: 1.2245 - val_loss: 1.4702 - val_root_mean_squared_error: 1.2125\n"
          ]
        },
        {
          "output_type": "stream",
          "name": "stderr",
          "text": [
            "WARNING:absl:Found untraced functions such as lstm_cell_4_layer_call_fn, lstm_cell_4_layer_call_and_return_conditional_losses, lstm_cell_4_layer_call_fn, lstm_cell_4_layer_call_and_return_conditional_losses, lstm_cell_4_layer_call_and_return_conditional_losses while saving (showing 5 of 5). These functions will not be directly callable after loading.\n"
          ]
        },
        {
          "output_type": "stream",
          "name": "stdout",
          "text": [
            "INFO:tensorflow:Assets written to: model4/assets\n"
          ]
        },
        {
          "output_type": "stream",
          "name": "stderr",
          "text": [
            "INFO:tensorflow:Assets written to: model4/assets\n"
          ]
        },
        {
          "output_type": "stream",
          "name": "stdout",
          "text": [
            "Epoch 4/10\n",
            "2192/2192 [==============================] - 12s 5ms/step - loss: 1.1336 - root_mean_squared_error: 1.0647 - val_loss: 1.2061 - val_root_mean_squared_error: 1.0982\n"
          ]
        },
        {
          "output_type": "stream",
          "name": "stderr",
          "text": [
            "WARNING:absl:Found untraced functions such as lstm_cell_4_layer_call_fn, lstm_cell_4_layer_call_and_return_conditional_losses, lstm_cell_4_layer_call_fn, lstm_cell_4_layer_call_and_return_conditional_losses, lstm_cell_4_layer_call_and_return_conditional_losses while saving (showing 5 of 5). These functions will not be directly callable after loading.\n"
          ]
        },
        {
          "output_type": "stream",
          "name": "stdout",
          "text": [
            "INFO:tensorflow:Assets written to: model4/assets\n"
          ]
        },
        {
          "output_type": "stream",
          "name": "stderr",
          "text": [
            "INFO:tensorflow:Assets written to: model4/assets\n"
          ]
        },
        {
          "output_type": "stream",
          "name": "stdout",
          "text": [
            "Epoch 5/10\n",
            "2192/2192 [==============================] - 12s 6ms/step - loss: 0.9890 - root_mean_squared_error: 0.9945 - val_loss: 1.0948 - val_root_mean_squared_error: 1.0463\n"
          ]
        },
        {
          "output_type": "stream",
          "name": "stderr",
          "text": [
            "WARNING:absl:Found untraced functions such as lstm_cell_4_layer_call_fn, lstm_cell_4_layer_call_and_return_conditional_losses, lstm_cell_4_layer_call_fn, lstm_cell_4_layer_call_and_return_conditional_losses, lstm_cell_4_layer_call_and_return_conditional_losses while saving (showing 5 of 5). These functions will not be directly callable after loading.\n"
          ]
        },
        {
          "output_type": "stream",
          "name": "stdout",
          "text": [
            "INFO:tensorflow:Assets written to: model4/assets\n"
          ]
        },
        {
          "output_type": "stream",
          "name": "stderr",
          "text": [
            "INFO:tensorflow:Assets written to: model4/assets\n"
          ]
        },
        {
          "output_type": "stream",
          "name": "stdout",
          "text": [
            "Epoch 6/10\n",
            "2192/2192 [==============================] - 12s 5ms/step - loss: 0.9238 - root_mean_squared_error: 0.9612 - val_loss: 1.0515 - val_root_mean_squared_error: 1.0254\n"
          ]
        },
        {
          "output_type": "stream",
          "name": "stderr",
          "text": [
            "WARNING:absl:Found untraced functions such as lstm_cell_4_layer_call_fn, lstm_cell_4_layer_call_and_return_conditional_losses, lstm_cell_4_layer_call_fn, lstm_cell_4_layer_call_and_return_conditional_losses, lstm_cell_4_layer_call_and_return_conditional_losses while saving (showing 5 of 5). These functions will not be directly callable after loading.\n"
          ]
        },
        {
          "output_type": "stream",
          "name": "stdout",
          "text": [
            "INFO:tensorflow:Assets written to: model4/assets\n"
          ]
        },
        {
          "output_type": "stream",
          "name": "stderr",
          "text": [
            "INFO:tensorflow:Assets written to: model4/assets\n"
          ]
        },
        {
          "output_type": "stream",
          "name": "stdout",
          "text": [
            "Epoch 7/10\n",
            "2192/2192 [==============================] - 12s 5ms/step - loss: 0.8997 - root_mean_squared_error: 0.9485 - val_loss: 1.0325 - val_root_mean_squared_error: 1.0161\n"
          ]
        },
        {
          "output_type": "stream",
          "name": "stderr",
          "text": [
            "WARNING:absl:Found untraced functions such as lstm_cell_4_layer_call_fn, lstm_cell_4_layer_call_and_return_conditional_losses, lstm_cell_4_layer_call_fn, lstm_cell_4_layer_call_and_return_conditional_losses, lstm_cell_4_layer_call_and_return_conditional_losses while saving (showing 5 of 5). These functions will not be directly callable after loading.\n"
          ]
        },
        {
          "output_type": "stream",
          "name": "stdout",
          "text": [
            "INFO:tensorflow:Assets written to: model4/assets\n"
          ]
        },
        {
          "output_type": "stream",
          "name": "stderr",
          "text": [
            "INFO:tensorflow:Assets written to: model4/assets\n"
          ]
        },
        {
          "output_type": "stream",
          "name": "stdout",
          "text": [
            "Epoch 8/10\n",
            "2192/2192 [==============================] - 12s 6ms/step - loss: 0.8889 - root_mean_squared_error: 0.9428 - val_loss: 1.0198 - val_root_mean_squared_error: 1.0098\n"
          ]
        },
        {
          "output_type": "stream",
          "name": "stderr",
          "text": [
            "WARNING:absl:Found untraced functions such as lstm_cell_4_layer_call_fn, lstm_cell_4_layer_call_and_return_conditional_losses, lstm_cell_4_layer_call_fn, lstm_cell_4_layer_call_and_return_conditional_losses, lstm_cell_4_layer_call_and_return_conditional_losses while saving (showing 5 of 5). These functions will not be directly callable after loading.\n"
          ]
        },
        {
          "output_type": "stream",
          "name": "stdout",
          "text": [
            "INFO:tensorflow:Assets written to: model4/assets\n"
          ]
        },
        {
          "output_type": "stream",
          "name": "stderr",
          "text": [
            "INFO:tensorflow:Assets written to: model4/assets\n"
          ]
        },
        {
          "output_type": "stream",
          "name": "stdout",
          "text": [
            "Epoch 9/10\n",
            "2192/2192 [==============================] - 12s 5ms/step - loss: 0.8818 - root_mean_squared_error: 0.9390 - val_loss: 1.0183 - val_root_mean_squared_error: 1.0091\n"
          ]
        },
        {
          "output_type": "stream",
          "name": "stderr",
          "text": [
            "WARNING:absl:Found untraced functions such as lstm_cell_4_layer_call_fn, lstm_cell_4_layer_call_and_return_conditional_losses, lstm_cell_4_layer_call_fn, lstm_cell_4_layer_call_and_return_conditional_losses, lstm_cell_4_layer_call_and_return_conditional_losses while saving (showing 5 of 5). These functions will not be directly callable after loading.\n"
          ]
        },
        {
          "output_type": "stream",
          "name": "stdout",
          "text": [
            "INFO:tensorflow:Assets written to: model4/assets\n"
          ]
        },
        {
          "output_type": "stream",
          "name": "stderr",
          "text": [
            "INFO:tensorflow:Assets written to: model4/assets\n"
          ]
        },
        {
          "output_type": "stream",
          "name": "stdout",
          "text": [
            "Epoch 10/10\n",
            "2192/2192 [==============================] - 12s 6ms/step - loss: 0.8772 - root_mean_squared_error: 0.9366 - val_loss: 1.0208 - val_root_mean_squared_error: 1.0103\n"
          ]
        },
        {
          "output_type": "execute_result",
          "data": {
            "text/plain": [
              "<keras.callbacks.History at 0x7feb6f795c10>"
            ]
          },
          "metadata": {},
          "execution_count": 80
        }
      ]
    },
    {
      "cell_type": "code",
      "metadata": {
        "colab": {
          "base_uri": "https://localhost:8080/",
          "height": 680
        },
        "id": "1u25dGKYQg6m",
        "outputId": "8546d05d-c42d-4703-fda1-30cdb1669948"
      },
      "source": [
        "plot_predictions1(model4, X2_test, y2_test)"
      ],
      "execution_count": 82,
      "outputs": [
        {
          "output_type": "execute_result",
          "data": {
            "text/plain": [
              "(      Predictions  Actuals\n",
              " 0       24.061874     20.0\n",
              " 1       20.012178     22.3\n",
              " 2       21.832117     23.9\n",
              " 3       22.881659     23.9\n",
              " 4       22.639341     21.7\n",
              " ...           ...      ...\n",
              " 8761    27.625896     28.1\n",
              " 8762    27.081556     23.6\n",
              " 8763    22.664391     23.6\n",
              " 8764    22.704975     22.3\n",
              " 8765    21.555908     21.3\n",
              " \n",
              " [8766 rows x 2 columns], 0.9134713960586293)"
            ]
          },
          "metadata": {},
          "execution_count": 82
        },
        {
          "output_type": "display_data",
          "data": {
            "image/png": "[encoded data removed]",
            "text/plain": [
              "<Figure size 864x504 with 1 Axes>"
            ]
          },
          "metadata": {}
        }
      ]
    },
    {
      "cell_type": "code",
      "metadata": {
        "id": "ng_AESalXWrf"
      },
      "source": [
        "def train_model_conv1d(X_train, y_train, X_val, y_val, model_name, epochs=10, learning_rate=0.0001):\n",
        "  model = Sequential()\n",
        "  model.add(InputLayer((5, 1)))\n",
        "  model.add(Conv1D(64, kernel_size=2))\n",
        "  model.add(Flatten())\n",
        "  model.add(Dense(8, 'relu'))\n",
        "  model.add(Dense(1, 'linear'))\n",
        "\n",
        "\n",
        "  cp = ModelCheckpoint(f'{model_name}/', save_best_only=True)\n",
        "  model.compile(loss=MeanSquaredError(), optimizer=Adam(learning_rate=learning_rate), metrics=[RootMeanSquaredError()])\n",
        "\n",
        "  model.fit(X_train, y_train, validation_data=(X_val, y_val), epochs=epochs, callbacks=[cp])\n",
        "\n",
        "  return model"
      ],
      "execution_count": 89,
      "outputs": []
    },
    {
      "cell_type": "code",
      "metadata": {
        "colab": {
          "base_uri": "https://localhost:8080/"
        },
        "id": "ItXwWUSrZ-V5",
        "outputId": "84f95ec5-e678-4cef-a2c8-fa54b3b2c25f"
      },
      "source": [
        "%%time\n",
        "test_model = train_model_conv1d(X_train1, y_train1, X_val1, y_val1, 'test_model', epochs=100)"
      ],
      "execution_count": 90,
      "outputs": [
        {
          "output_type": "stream",
          "name": "stdout",
          "text": [
            "Epoch 1/100\n",
            "2192/2192 [==============================] - 4s 2ms/step - loss: 24.0584 - root_mean_squared_error: 4.9049 - val_loss: 2.9800 - val_root_mean_squared_error: 1.7263\n",
            "INFO:tensorflow:Assets written to: test_model/assets\n"
          ]
        },
        {
          "output_type": "stream",
          "name": "stderr",
          "text": [
            "INFO:tensorflow:Assets written to: test_model/assets\n"
          ]
        },
        {
          "output_type": "stream",
          "name": "stdout",
          "text": [
            "Epoch 2/100\n",
            "2192/2192 [==============================] - 4s 2ms/step - loss: 1.8432 - root_mean_squared_error: 1.3577 - val_loss: 1.6942 - val_root_mean_squared_error: 1.3016\n",
            "INFO:tensorflow:Assets written to: test_model/assets\n"
          ]
        },
        {
          "output_type": "stream",
          "name": "stderr",
          "text": [
            "INFO:tensorflow:Assets written to: test_model/assets\n"
          ]
        },
        {
          "output_type": "stream",
          "name": "stdout",
          "text": [
            "Epoch 3/100\n",
            "2192/2192 [==============================] - 4s 2ms/step - loss: 1.3689 - root_mean_squared_error: 1.1700 - val_loss: 1.4972 - val_root_mean_squared_error: 1.2236\n",
            "INFO:tensorflow:Assets written to: test_model/assets\n"
          ]
        },
        {
          "output_type": "stream",
          "name": "stderr",
          "text": [
            "INFO:tensorflow:Assets written to: test_model/assets\n"
          ]
        },
        {
          "output_type": "stream",
          "name": "stdout",
          "text": [
            "Epoch 4/100\n",
            "2192/2192 [==============================] - 4s 2ms/step - loss: 1.2808 - root_mean_squared_error: 1.1317 - val_loss: 1.4551 - val_root_mean_squared_error: 1.2063\n",
            "INFO:tensorflow:Assets written to: test_model/assets\n"
          ]
        },
        {
          "output_type": "stream",
          "name": "stderr",
          "text": [
            "INFO:tensorflow:Assets written to: test_model/assets\n"
          ]
        },
        {
          "output_type": "stream",
          "name": "stdout",
          "text": [
            "Epoch 5/100\n",
            "2192/2192 [==============================] - 4s 2ms/step - loss: 1.2590 - root_mean_squared_error: 1.1221 - val_loss: 1.4351 - val_root_mean_squared_error: 1.1980\n",
            "INFO:tensorflow:Assets written to: test_model/assets\n"
          ]
        },
        {
          "output_type": "stream",
          "name": "stderr",
          "text": [
            "INFO:tensorflow:Assets written to: test_model/assets\n"
          ]
        },
        {
          "output_type": "stream",
          "name": "stdout",
          "text": [
            "Epoch 6/100\n",
            "2192/2192 [==============================] - 4s 2ms/step - loss: 1.2524 - root_mean_squared_error: 1.1191 - val_loss: 1.4277 - val_root_mean_squared_error: 1.1949\n",
            "INFO:tensorflow:Assets written to: test_model/assets\n"
          ]
        },
        {
          "output_type": "stream",
          "name": "stderr",
          "text": [
            "INFO:tensorflow:Assets written to: test_model/assets\n"
          ]
        },
        {
          "output_type": "stream",
          "name": "stdout",
          "text": [
            "Epoch 7/100\n",
            "2192/2192 [==============================] - 4s 2ms/step - loss: 1.2497 - root_mean_squared_error: 1.1179 - val_loss: 1.4177 - val_root_mean_squared_error: 1.1907\n",
            "INFO:tensorflow:Assets written to: test_model/assets\n"
          ]
        },
        {
          "output_type": "stream",
          "name": "stderr",
          "text": [
            "INFO:tensorflow:Assets written to: test_model/assets\n"
          ]
        },
        {
          "output_type": "stream",
          "name": "stdout",
          "text": [
            "Epoch 8/100\n",
            "2192/2192 [==============================] - 4s 2ms/step - loss: 1.2472 - root_mean_squared_error: 1.1168 - val_loss: 1.4254 - val_root_mean_squared_error: 1.1939\n",
            "Epoch 9/100\n",
            "2192/2192 [==============================] - 4s 2ms/step - loss: 1.2490 - root_mean_squared_error: 1.1176 - val_loss: 1.4377 - val_root_mean_squared_error: 1.1990\n",
            "Epoch 10/100\n",
            "2192/2192 [==============================] - 4s 2ms/step - loss: 1.2461 - root_mean_squared_error: 1.1163 - val_loss: 1.4228 - val_root_mean_squared_error: 1.1928\n",
            "Epoch 11/100\n",
            "2192/2192 [==============================] - 4s 2ms/step - loss: 1.2473 - root_mean_squared_error: 1.1168 - val_loss: 1.4496 - val_root_mean_squared_error: 1.2040\n",
            "Epoch 12/100\n",
            "2192/2192 [==============================] - 4s 2ms/step - loss: 1.2470 - root_mean_squared_error: 1.1167 - val_loss: 1.4221 - val_root_mean_squared_error: 1.1925\n",
            "Epoch 13/100\n",
            "2192/2192 [==============================] - 4s 2ms/step - loss: 1.2459 - root_mean_squared_error: 1.1162 - val_loss: 1.4356 - val_root_mean_squared_error: 1.1981\n",
            "Epoch 14/100\n",
            "2192/2192 [==============================] - 4s 2ms/step - loss: 1.2466 - root_mean_squared_error: 1.1165 - val_loss: 1.4159 - val_root_mean_squared_error: 1.1899\n",
            "INFO:tensorflow:Assets written to: test_model/assets\n"
          ]
        },
        {
          "output_type": "stream",
          "name": "stderr",
          "text": [
            "INFO:tensorflow:Assets written to: test_model/assets\n"
          ]
        },
        {
          "output_type": "stream",
          "name": "stdout",
          "text": [
            "Epoch 15/100\n",
            "2192/2192 [==============================] - 4s 2ms/step - loss: 1.2462 - root_mean_squared_error: 1.1163 - val_loss: 1.4237 - val_root_mean_squared_error: 1.1932\n",
            "Epoch 16/100\n",
            "2192/2192 [==============================] - 4s 2ms/step - loss: 1.2447 - root_mean_squared_error: 1.1157 - val_loss: 1.4292 - val_root_mean_squared_error: 1.1955\n",
            "Epoch 17/100\n",
            "2192/2192 [==============================] - 4s 2ms/step - loss: 1.2445 - root_mean_squared_error: 1.1156 - val_loss: 1.4623 - val_root_mean_squared_error: 1.2092\n",
            "Epoch 18/100\n",
            "2192/2192 [==============================] - 4s 2ms/step - loss: 1.2464 - root_mean_squared_error: 1.1164 - val_loss: 1.4158 - val_root_mean_squared_error: 1.1899\n",
            "INFO:tensorflow:Assets written to: test_model/assets\n"
          ]
        },
        {
          "output_type": "stream",
          "name": "stderr",
          "text": [
            "INFO:tensorflow:Assets written to: test_model/assets\n"
          ]
        },
        {
          "output_type": "stream",
          "name": "stdout",
          "text": [
            "Epoch 19/100\n",
            "2192/2192 [==============================] - 4s 2ms/step - loss: 1.2448 - root_mean_squared_error: 1.1157 - val_loss: 1.4281 - val_root_mean_squared_error: 1.1950\n",
            "Epoch 20/100\n",
            "2192/2192 [==============================] - 4s 2ms/step - loss: 1.2459 - root_mean_squared_error: 1.1162 - val_loss: 1.4333 - val_root_mean_squared_error: 1.1972\n",
            "Epoch 21/100\n",
            "2192/2192 [==============================] - 4s 2ms/step - loss: 1.2495 - root_mean_squared_error: 1.1178 - val_loss: 1.4176 - val_root_mean_squared_error: 1.1906\n",
            "Epoch 22/100\n",
            "2192/2192 [==============================] - 4s 2ms/step - loss: 1.2478 - root_mean_squared_error: 1.1171 - val_loss: 1.4273 - val_root_mean_squared_error: 1.1947\n",
            "Epoch 23/100\n",
            "2192/2192 [==============================] - 4s 2ms/step - loss: 1.2475 - root_mean_squared_error: 1.1169 - val_loss: 1.4204 - val_root_mean_squared_error: 1.1918\n",
            "Epoch 24/100\n",
            "2192/2192 [==============================] - 4s 2ms/step - loss: 1.2497 - root_mean_squared_error: 1.1179 - val_loss: 1.4174 - val_root_mean_squared_error: 1.1905\n",
            "Epoch 25/100\n",
            "2192/2192 [==============================] - 4s 2ms/step - loss: 1.2485 - root_mean_squared_error: 1.1174 - val_loss: 1.4269 - val_root_mean_squared_error: 1.1945\n",
            "Epoch 26/100\n",
            "2192/2192 [==============================] - 4s 2ms/step - loss: 1.2442 - root_mean_squared_error: 1.1154 - val_loss: 1.4265 - val_root_mean_squared_error: 1.1944\n",
            "Epoch 27/100\n",
            "2192/2192 [==============================] - 4s 2ms/step - loss: 1.2443 - root_mean_squared_error: 1.1155 - val_loss: 1.4336 - val_root_mean_squared_error: 1.1973\n",
            "Epoch 28/100\n",
            "2192/2192 [==============================] - 4s 2ms/step - loss: 1.2460 - root_mean_squared_error: 1.1162 - val_loss: 1.4315 - val_root_mean_squared_error: 1.1964\n",
            "Epoch 29/100\n",
            "2192/2192 [==============================] - 4s 2ms/step - loss: 1.2460 - root_mean_squared_error: 1.1163 - val_loss: 1.4183 - val_root_mean_squared_error: 1.1909\n",
            "Epoch 30/100\n",
            "2192/2192 [==============================] - 4s 2ms/step - loss: 1.2500 - root_mean_squared_error: 1.1180 - val_loss: 1.4338 - val_root_mean_squared_error: 1.1974\n",
            "Epoch 31/100\n",
            "2192/2192 [==============================] - 4s 2ms/step - loss: 1.2467 - root_mean_squared_error: 1.1166 - val_loss: 1.4489 - val_root_mean_squared_error: 1.2037\n",
            "Epoch 32/100\n",
            "2192/2192 [==============================] - 4s 2ms/step - loss: 1.2452 - root_mean_squared_error: 1.1159 - val_loss: 1.4156 - val_root_mean_squared_error: 1.1898\n",
            "INFO:tensorflow:Assets written to: test_model/assets\n"
          ]
        },
        {
          "output_type": "stream",
          "name": "stderr",
          "text": [
            "INFO:tensorflow:Assets written to: test_model/assets\n"
          ]
        },
        {
          "output_type": "stream",
          "name": "stdout",
          "text": [
            "Epoch 33/100\n",
            "2192/2192 [==============================] - 4s 2ms/step - loss: 1.2462 - root_mean_squared_error: 1.1163 - val_loss: 1.4169 - val_root_mean_squared_error: 1.1904\n",
            "Epoch 34/100\n",
            "2192/2192 [==============================] - 4s 2ms/step - loss: 1.2452 - root_mean_squared_error: 1.1159 - val_loss: 1.4385 - val_root_mean_squared_error: 1.1994\n",
            "Epoch 35/100\n",
            "2192/2192 [==============================] - 4s 2ms/step - loss: 1.2451 - root_mean_squared_error: 1.1158 - val_loss: 1.4160 - val_root_mean_squared_error: 1.1900\n",
            "Epoch 36/100\n",
            "2192/2192 [==============================] - 4s 2ms/step - loss: 1.2445 - root_mean_squared_error: 1.1156 - val_loss: 1.4923 - val_root_mean_squared_error: 1.2216\n",
            "Epoch 37/100\n",
            "2192/2192 [==============================] - 4s 2ms/step - loss: 1.2488 - root_mean_squared_error: 1.1175 - val_loss: 1.4152 - val_root_mean_squared_error: 1.1896\n",
            "INFO:tensorflow:Assets written to: test_model/assets\n"
          ]
        },
        {
          "output_type": "stream",
          "name": "stderr",
          "text": [
            "INFO:tensorflow:Assets written to: test_model/assets\n"
          ]
        },
        {
          "output_type": "stream",
          "name": "stdout",
          "text": [
            "Epoch 38/100\n",
            "2192/2192 [==============================] - 4s 2ms/step - loss: 1.2438 - root_mean_squared_error: 1.1153 - val_loss: 1.4153 - val_root_mean_squared_error: 1.1897\n",
            "Epoch 39/100\n",
            "2192/2192 [==============================] - 4s 2ms/step - loss: 1.2438 - root_mean_squared_error: 1.1153 - val_loss: 1.4171 - val_root_mean_squared_error: 1.1904\n",
            "Epoch 40/100\n",
            "2192/2192 [==============================] - 4s 2ms/step - loss: 1.2462 - root_mean_squared_error: 1.1163 - val_loss: 1.4231 - val_root_mean_squared_error: 1.1929\n",
            "Epoch 41/100\n",
            "2192/2192 [==============================] - 4s 2ms/step - loss: 1.2439 - root_mean_squared_error: 1.1153 - val_loss: 1.4985 - val_root_mean_squared_error: 1.2241\n",
            "Epoch 42/100\n",
            "2192/2192 [==============================] - 4s 2ms/step - loss: 1.2443 - root_mean_squared_error: 1.1155 - val_loss: 1.4282 - val_root_mean_squared_error: 1.1951\n",
            "Epoch 43/100\n",
            "2192/2192 [==============================] - 4s 2ms/step - loss: 1.2457 - root_mean_squared_error: 1.1161 - val_loss: 1.4171 - val_root_mean_squared_error: 1.1904\n",
            "Epoch 44/100\n",
            "2192/2192 [==============================] - 4s 2ms/step - loss: 1.2458 - root_mean_squared_error: 1.1162 - val_loss: 1.4212 - val_root_mean_squared_error: 1.1922\n",
            "Epoch 45/100\n",
            "2192/2192 [==============================] - 4s 2ms/step - loss: 1.2458 - root_mean_squared_error: 1.1161 - val_loss: 1.5634 - val_root_mean_squared_error: 1.2504\n",
            "Epoch 46/100\n",
            "2192/2192 [==============================] - 4s 2ms/step - loss: 1.2479 - root_mean_squared_error: 1.1171 - val_loss: 1.4195 - val_root_mean_squared_error: 1.1914\n",
            "Epoch 47/100\n",
            "2192/2192 [==============================] - 4s 2ms/step - loss: 1.2436 - root_mean_squared_error: 1.1152 - val_loss: 1.4223 - val_root_mean_squared_error: 1.1926\n",
            "Epoch 48/100\n",
            "2192/2192 [==============================] - 4s 2ms/step - loss: 1.2449 - root_mean_squared_error: 1.1158 - val_loss: 1.4323 - val_root_mean_squared_error: 1.1968\n",
            "Epoch 49/100\n",
            "2192/2192 [==============================] - 4s 2ms/step - loss: 1.2431 - root_mean_squared_error: 1.1150 - val_loss: 1.4204 - val_root_mean_squared_error: 1.1918\n",
            "Epoch 50/100\n",
            "2192/2192 [==============================] - 4s 2ms/step - loss: 1.2453 - root_mean_squared_error: 1.1159 - val_loss: 1.4161 - val_root_mean_squared_error: 1.1900\n",
            "Epoch 51/100\n",
            "2192/2192 [==============================] - 4s 2ms/step - loss: 1.2440 - root_mean_squared_error: 1.1153 - val_loss: 1.5233 - val_root_mean_squared_error: 1.2342\n",
            "Epoch 52/100\n",
            "2192/2192 [==============================] - 4s 2ms/step - loss: 1.2481 - root_mean_squared_error: 1.1172 - val_loss: 1.4510 - val_root_mean_squared_error: 1.2046\n",
            "Epoch 53/100\n",
            "2192/2192 [==============================] - 4s 2ms/step - loss: 1.2447 - root_mean_squared_error: 1.1157 - val_loss: 1.4620 - val_root_mean_squared_error: 1.2091\n",
            "Epoch 54/100\n",
            "2192/2192 [==============================] - 4s 2ms/step - loss: 1.2469 - root_mean_squared_error: 1.1167 - val_loss: 1.4331 - val_root_mean_squared_error: 1.1971\n",
            "Epoch 55/100\n",
            "2192/2192 [==============================] - 4s 2ms/step - loss: 1.2449 - root_mean_squared_error: 1.1158 - val_loss: 1.4255 - val_root_mean_squared_error: 1.1939\n",
            "Epoch 56/100\n",
            "2192/2192 [==============================] - 4s 2ms/step - loss: 1.2447 - root_mean_squared_error: 1.1157 - val_loss: 1.4186 - val_root_mean_squared_error: 1.1910\n",
            "Epoch 57/100\n",
            "2192/2192 [==============================] - 4s 2ms/step - loss: 1.2432 - root_mean_squared_error: 1.1150 - val_loss: 1.4328 - val_root_mean_squared_error: 1.1970\n",
            "Epoch 58/100\n",
            "2192/2192 [==============================] - 4s 2ms/step - loss: 1.2451 - root_mean_squared_error: 1.1158 - val_loss: 1.4164 - val_root_mean_squared_error: 1.1901\n",
            "Epoch 59/100\n",
            "2192/2192 [==============================] - 4s 2ms/step - loss: 1.2460 - root_mean_squared_error: 1.1162 - val_loss: 1.4172 - val_root_mean_squared_error: 1.1905\n",
            "Epoch 60/100\n",
            "2192/2192 [==============================] - 4s 2ms/step - loss: 1.2410 - root_mean_squared_error: 1.1140 - val_loss: 1.4260 - val_root_mean_squared_error: 1.1941\n",
            "Epoch 61/100\n",
            "2192/2192 [==============================] - 4s 2ms/step - loss: 1.2433 - root_mean_squared_error: 1.1150 - val_loss: 1.4170 - val_root_mean_squared_error: 1.1904\n",
            "Epoch 62/100\n",
            "2192/2192 [==============================] - 4s 2ms/step - loss: 1.2457 - root_mean_squared_error: 1.1161 - val_loss: 1.4169 - val_root_mean_squared_error: 1.1903\n",
            "Epoch 63/100\n",
            "2192/2192 [==============================] - 4s 2ms/step - loss: 1.2455 - root_mean_squared_error: 1.1160 - val_loss: 1.4353 - val_root_mean_squared_error: 1.1980\n",
            "Epoch 64/100\n",
            "2192/2192 [==============================] - 4s 2ms/step - loss: 1.2470 - root_mean_squared_error: 1.1167 - val_loss: 1.4252 - val_root_mean_squared_error: 1.1938\n",
            "Epoch 65/100\n",
            "2192/2192 [==============================] - 4s 2ms/step - loss: 1.2435 - root_mean_squared_error: 1.1151 - val_loss: 1.4214 - val_root_mean_squared_error: 1.1922\n",
            "Epoch 66/100\n",
            "2192/2192 [==============================] - 4s 2ms/step - loss: 1.2426 - root_mean_squared_error: 1.1147 - val_loss: 1.4153 - val_root_mean_squared_error: 1.1897\n",
            "Epoch 67/100\n",
            "2192/2192 [==============================] - 4s 2ms/step - loss: 1.2428 - root_mean_squared_error: 1.1148 - val_loss: 1.4209 - val_root_mean_squared_error: 1.1920\n",
            "Epoch 68/100\n",
            "2192/2192 [==============================] - 4s 2ms/step - loss: 1.2461 - root_mean_squared_error: 1.1163 - val_loss: 1.4157 - val_root_mean_squared_error: 1.1898\n",
            "Epoch 69/100\n",
            "2192/2192 [==============================] - 4s 2ms/step - loss: 1.2432 - root_mean_squared_error: 1.1150 - val_loss: 1.4195 - val_root_mean_squared_error: 1.1914\n",
            "Epoch 70/100\n",
            "2192/2192 [==============================] - 4s 2ms/step - loss: 1.2435 - root_mean_squared_error: 1.1151 - val_loss: 1.4159 - val_root_mean_squared_error: 1.1899\n",
            "Epoch 71/100\n",
            "2192/2192 [==============================] - 4s 2ms/step - loss: 1.2439 - root_mean_squared_error: 1.1153 - val_loss: 1.4204 - val_root_mean_squared_error: 1.1918\n",
            "Epoch 72/100\n",
            "2192/2192 [==============================] - 4s 2ms/step - loss: 1.2439 - root_mean_squared_error: 1.1153 - val_loss: 1.4157 - val_root_mean_squared_error: 1.1898\n",
            "Epoch 73/100\n",
            "2192/2192 [==============================] - 4s 2ms/step - loss: 1.2442 - root_mean_squared_error: 1.1154 - val_loss: 1.4569 - val_root_mean_squared_error: 1.2070\n",
            "Epoch 74/100\n",
            "2192/2192 [==============================] - 4s 2ms/step - loss: 1.2431 - root_mean_squared_error: 1.1149 - val_loss: 1.4659 - val_root_mean_squared_error: 1.2107\n",
            "Epoch 75/100\n",
            "2192/2192 [==============================] - 4s 2ms/step - loss: 1.2418 - root_mean_squared_error: 1.1144 - val_loss: 1.4494 - val_root_mean_squared_error: 1.2039\n",
            "Epoch 76/100\n",
            "2192/2192 [==============================] - 4s 2ms/step - loss: 1.2434 - root_mean_squared_error: 1.1151 - val_loss: 1.4166 - val_root_mean_squared_error: 1.1902\n",
            "Epoch 77/100\n",
            "2192/2192 [==============================] - 4s 2ms/step - loss: 1.2420 - root_mean_squared_error: 1.1145 - val_loss: 1.4174 - val_root_mean_squared_error: 1.1905\n",
            "Epoch 78/100\n",
            "2192/2192 [==============================] - 4s 2ms/step - loss: 1.2421 - root_mean_squared_error: 1.1145 - val_loss: 1.4576 - val_root_mean_squared_error: 1.2073\n",
            "Epoch 79/100\n",
            "2192/2192 [==============================] - 4s 2ms/step - loss: 1.2442 - root_mean_squared_error: 1.1155 - val_loss: 1.4311 - val_root_mean_squared_error: 1.1963\n",
            "Epoch 80/100\n",
            "2192/2192 [==============================] - 4s 2ms/step - loss: 1.2404 - root_mean_squared_error: 1.1137 - val_loss: 1.4371 - val_root_mean_squared_error: 1.1988\n",
            "Epoch 81/100\n",
            "2192/2192 [==============================] - 4s 2ms/step - loss: 1.2428 - root_mean_squared_error: 1.1148 - val_loss: 1.4334 - val_root_mean_squared_error: 1.1973\n",
            "Epoch 82/100\n",
            "2192/2192 [==============================] - 4s 2ms/step - loss: 1.2415 - root_mean_squared_error: 1.1142 - val_loss: 1.4161 - val_root_mean_squared_error: 1.1900\n",
            "Epoch 83/100\n",
            "2192/2192 [==============================] - 4s 2ms/step - loss: 1.2431 - root_mean_squared_error: 1.1149 - val_loss: 1.4181 - val_root_mean_squared_error: 1.1908\n",
            "Epoch 84/100\n",
            "2192/2192 [==============================] - 4s 2ms/step - loss: 1.2433 - root_mean_squared_error: 1.1150 - val_loss: 1.4509 - val_root_mean_squared_error: 1.2045\n",
            "Epoch 85/100\n",
            "2192/2192 [==============================] - 4s 2ms/step - loss: 1.2405 - root_mean_squared_error: 1.1138 - val_loss: 1.4149 - val_root_mean_squared_error: 1.1895\n",
            "INFO:tensorflow:Assets written to: test_model/assets\n"
          ]
        },
        {
          "output_type": "stream",
          "name": "stderr",
          "text": [
            "INFO:tensorflow:Assets written to: test_model/assets\n"
          ]
        },
        {
          "output_type": "stream",
          "name": "stdout",
          "text": [
            "Epoch 86/100\n",
            "2192/2192 [==============================] - 4s 2ms/step - loss: 1.2420 - root_mean_squared_error: 1.1145 - val_loss: 1.4148 - val_root_mean_squared_error: 1.1895\n",
            "INFO:tensorflow:Assets written to: test_model/assets\n"
          ]
        },
        {
          "output_type": "stream",
          "name": "stderr",
          "text": [
            "INFO:tensorflow:Assets written to: test_model/assets\n"
          ]
        },
        {
          "output_type": "stream",
          "name": "stdout",
          "text": [
            "Epoch 87/100\n",
            "2192/2192 [==============================] - 4s 2ms/step - loss: 1.2417 - root_mean_squared_error: 1.1143 - val_loss: 1.4449 - val_root_mean_squared_error: 1.2020\n",
            "Epoch 88/100\n",
            "2192/2192 [==============================] - 4s 2ms/step - loss: 1.2422 - root_mean_squared_error: 1.1146 - val_loss: 1.4164 - val_root_mean_squared_error: 1.1901\n",
            "Epoch 89/100\n",
            "2192/2192 [==============================] - 4s 2ms/step - loss: 1.2431 - root_mean_squared_error: 1.1150 - val_loss: 1.4150 - val_root_mean_squared_error: 1.1895\n",
            "Epoch 90/100\n",
            "2192/2192 [==============================] - 4s 2ms/step - loss: 1.2425 - root_mean_squared_error: 1.1147 - val_loss: 1.4355 - val_root_mean_squared_error: 1.1981\n",
            "Epoch 91/100\n",
            "2192/2192 [==============================] - 4s 2ms/step - loss: 1.2440 - root_mean_squared_error: 1.1154 - val_loss: 1.4170 - val_root_mean_squared_error: 1.1904\n",
            "Epoch 92/100\n",
            "2192/2192 [==============================] - 4s 2ms/step - loss: 1.2435 - root_mean_squared_error: 1.1151 - val_loss: 1.4337 - val_root_mean_squared_error: 1.1974\n",
            "Epoch 93/100\n",
            "2192/2192 [==============================] - 4s 2ms/step - loss: 1.2411 - root_mean_squared_error: 1.1140 - val_loss: 1.4256 - val_root_mean_squared_error: 1.1940\n",
            "Epoch 94/100\n",
            "2192/2192 [==============================] - 4s 2ms/step - loss: 1.2427 - root_mean_squared_error: 1.1147 - val_loss: 1.4765 - val_root_mean_squared_error: 1.2151\n",
            "Epoch 95/100\n",
            "2192/2192 [==============================] - 4s 2ms/step - loss: 1.2426 - root_mean_squared_error: 1.1147 - val_loss: 1.4146 - val_root_mean_squared_error: 1.1894\n",
            "INFO:tensorflow:Assets written to: test_model/assets\n"
          ]
        },
        {
          "output_type": "stream",
          "name": "stderr",
          "text": [
            "INFO:tensorflow:Assets written to: test_model/assets\n"
          ]
        },
        {
          "output_type": "stream",
          "name": "stdout",
          "text": [
            "Epoch 96/100\n",
            "2192/2192 [==============================] - 4s 2ms/step - loss: 1.2405 - root_mean_squared_error: 1.1138 - val_loss: 1.4608 - val_root_mean_squared_error: 1.2086\n",
            "Epoch 97/100\n",
            "2192/2192 [==============================] - 4s 2ms/step - loss: 1.2409 - root_mean_squared_error: 1.1140 - val_loss: 1.4169 - val_root_mean_squared_error: 1.1903\n",
            "Epoch 98/100\n",
            "2192/2192 [==============================] - 4s 2ms/step - loss: 1.2419 - root_mean_squared_error: 1.1144 - val_loss: 1.4174 - val_root_mean_squared_error: 1.1905\n",
            "Epoch 99/100\n",
            "2192/2192 [==============================] - 4s 2ms/step - loss: 1.2427 - root_mean_squared_error: 1.1147 - val_loss: 1.4205 - val_root_mean_squared_error: 1.1918\n",
            "Epoch 100/100\n",
            "2192/2192 [==============================] - 4s 2ms/step - loss: 1.2421 - root_mean_squared_error: 1.1145 - val_loss: 1.4212 - val_root_mean_squared_error: 1.1921\n",
            "CPU times: user 7min 28s, sys: 40.9 s, total: 8min 9s\n",
            "Wall time: 6min 22s\n"
          ]
        }
      ]
    },
    {
      "cell_type": "code",
      "metadata": {
        "colab": {
          "base_uri": "https://localhost:8080/",
          "height": 678
        },
        "id": "RgLqZo3OaKvf",
        "outputId": "2e769f80-af06-4047-adc6-2c78c85ceb2d"
      },
      "source": [
        "plot_predictions1(test_model, X_test1, y_test1)"
      ],
      "execution_count": 91,
      "outputs": [
        {
          "output_type": "execute_result",
          "data": {
            "text/plain": [
              "(      Predictions  Actuals\n",
              " 0       24.364063     20.0\n",
              " 1       19.244774     22.3\n",
              " 2       22.198639     23.9\n",
              " 3       23.798664     23.9\n",
              " 4       23.748337     21.7\n",
              " ...           ...      ...\n",
              " 8761    27.348679     28.1\n",
              " 8762    27.133282     23.6\n",
              " 8763    21.978630     23.6\n",
              " 8764    22.410475     22.3\n",
              " 8765    21.173981     21.3\n",
              " \n",
              " [8766 rows x 2 columns], 1.2813420195246468)"
            ]
          },
          "metadata": {},
          "execution_count": 91
        },
        {
          "output_type": "display_data",
          "data": {
            "image/png": "[encoded data removed]",
            "text/plain": [
              "<Figure size 864x504 with 1 Axes>"
            ]
          },
          "metadata": {}
        }
      ]
    },
    {
      "cell_type": "code",
      "metadata": {
        "id": "Gt6R3PExbxOg"
      },
      "source": [
        ""
      ],
      "execution_count": null,
      "outputs": []
    }
  ]
}