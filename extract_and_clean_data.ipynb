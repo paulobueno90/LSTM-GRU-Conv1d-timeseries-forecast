{
  "nbformat": 4,
  "nbformat_minor": 0,
  "metadata": {
    "colab": {
      "name": "extract-and-clean-data.ipynb",
      "provenance": []
    },
    "kernelspec": {
      "name": "python3",
      "display_name": "Python 3"
    },
    "language_info": {
      "name": "python"
    }
  },
  "cells": [
    {
      "cell_type": "markdown",
      "metadata": {
        "id": "NuP9FODrh4nc"
      },
      "source": [
        "# Data Extraction and Cleaning - Brazilian Cities Weather Data\n",
        "\n",
        "This notebook focuses on importing, processing, and cleaning data to be used in the next step. For this, it is necessary to understand how these data are made available by the Brazilian government.\n",
        "\n",
        "---\n",
        "\n",
        "Data are provided by the 'Instituto Nacional de Meteorologia', which mean literally National Institute of Meteorology. This data is open and can be found on their website where it is possible to get data since 2000 with hourly registration. The data is in excel sheets which can be downloaded in a zip file for each year.\n",
        "\n",
        "Data can be retrieved at this link: [INMET](https://portal.inmet.gov.br/dadoshistoricos)"
      ]
    },
    {
      "cell_type": "code",
      "metadata": {
        "id": "sv96n6hNhWK4"
      },
      "source": [
        "import os\n",
        "import shutil\n",
        "import urllib\n",
        "import zipfile\n",
        "\n",
        "import pandas as pd\n",
        "import numpy as np\n",
        "\n",
        "import matplotlib.pyplot as plt\n",
        "import matplotlib as mpl\n",
        "import seaborn as sns\n",
        "\n",
        "# Setting Seaborn Theme\n",
        "sns.set_theme(style=\"whitegrid\", font_scale=1.4)\n",
        "\n",
        "plt.rcParams[\"figure.figsize\"] = (12,7)"
      ],
      "execution_count": 8,
      "outputs": []
    },
    {
      "cell_type": "code",
      "metadata": {
        "id": "jrRhwUHvpSqq"
      },
      "source": [
        "# Getting Initial Files\n",
        "initial_files = os.listdir()"
      ],
      "execution_count": 2,
      "outputs": []
    },
    {
      "cell_type": "markdown",
      "metadata": {
        "id": "rCvvBnRUlZry"
      },
      "source": [
        "For this project, we will select the brazilian city 'Brasilia', Capital of Brazil.\n",
        "\n",
        "Initially, it will be selected years between 2011 and 2020 for no special reason (arbitrary)."
      ]
    },
    {
      "cell_type": "code",
      "metadata": {
        "id": "Vqr1UhtSlT5U"
      },
      "source": [
        "# Setting chosen data\n",
        "city = 'brasilia'\n",
        "start_year = 2011\n",
        "end_year = 2020\n",
        "\n",
        "# Creating a list of years for iteration\n",
        "years = np.arange(start_year,end_year+1,1)\n",
        "\n",
        "# List with strings(path) for the downloaded files\n",
        "files_path = []"
      ],
      "execution_count": 3,
      "outputs": []
    },
    {
      "cell_type": "markdown",
      "metadata": {
        "id": "t3UWJ1UMoKF0"
      },
      "source": [
        "Instead of downloading each zip file manually, it is better to simply download using python."
      ]
    },
    {
      "cell_type": "code",
      "metadata": {
        "id": "3xnPTuIPhkcI"
      },
      "source": [
        "# Getting Year by Year zip files\n",
        "for year in years:\n",
        "\n",
        "    # Using f-strings to select zip files.\n",
        "    zip_url = f\"https://portal.inmet.gov.br/uploads/dadoshistoricos/{year}.zip\"\n",
        "\n",
        "    # Getting original zip file name\n",
        "    zip_file = zip_url.split('/')[-1]\n",
        "\n",
        "    # Downloading File\n",
        "    urllib.request.urlretrieve(zip_url, zip_file)\n",
        "\n",
        "    # Reading Zip File and getting only the file of the selected city\n",
        "    with zipfile.ZipFile(zip_file, \"r\") as f:\n",
        "        for name in f.namelist():\n",
        "            if city in name.lower():\n",
        "              f.extract(name, path=None, pwd=None)\n",
        "              files_path.append(name)"
      ],
      "execution_count": 4,
      "outputs": []
    },
    {
      "cell_type": "code",
      "metadata": {
        "id": "ofSnRzwuntUb"
      },
      "source": [
        "files_list = os.listdir()\n",
        "\n",
        "for name in files_list:\n",
        "\n",
        "    if name not in initial_files:\n",
        "\n",
        "        if os.path.isdir(name):\n",
        "            shutil.rmtree(name, ignore_errors=True)\n",
        "        \n",
        "        elif os.path.isfile(name):\n",
        "            os.remove(name)"
      ],
      "execution_count": 9,
      "outputs": []
    },
    {
      "cell_type": "code",
      "metadata": {
        "id": "5XMKNFMVp_oK"
      },
      "source": [
        ""
      ],
      "execution_count": null,
      "outputs": []
    }
  ]
}