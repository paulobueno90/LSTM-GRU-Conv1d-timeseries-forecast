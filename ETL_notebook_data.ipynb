{
  "nbformat": 4,
  "nbformat_minor": 0,
  "metadata": {
    "colab": {
      "name": "ETL-notebook-data.ipynb",
      "provenance": []
    },
    "kernelspec": {
      "name": "python3",
      "display_name": "Python 3"
    },
    "language_info": {
      "name": "python"
    }
  },
  "cells": [
    {
      "cell_type": "markdown",
      "metadata": {
        "id": "NuP9FODrh4nc"
      },
      "source": [
        "# Data Extraction and Cleaning - Brazilian Cities Weather Data\n",
        "\n",
        "This notebook focuses on importing, processing, and cleaning data to be used in the next step. For this, it is necessary to understand how these data are made available by the Brazilian government.\n",
        "\n",
        "---\n",
        "\n",
        "Data are provided by the 'Instituto Nacional de Meteorologia', which mean literally National Institute of Meteorology. This data is open and can be found on their website where it is possible to get data since 2000 with hourly registration. The data is in CSV files which can be downloaded in a zip file for each year.\n",
        "\n",
        "Data can be retrieved at this link: [INMET](https://portal.inmet.gov.br/dadoshistoricos)"
      ]
    },
    {
      "cell_type": "code",
      "metadata": {
        "id": "sv96n6hNhWK4"
      },
      "source": [
        "import os\n",
        "import shutil\n",
        "import urllib\n",
        "import zipfile\n",
        "\n",
        "import pandas as pd\n",
        "import numpy as np\n",
        "\n",
        "import matplotlib.pyplot as plt\n",
        "import matplotlib as mpl\n",
        "import seaborn as sns\n",
        "\n",
        "# Setting Seaborn Theme\n",
        "sns.set_theme(style=\"whitegrid\", font_scale=1.4)\n",
        "\n",
        "plt.rcParams[\"figure.figsize\"] = (12,7)"
      ],
      "execution_count": 12,
      "outputs": []
    },
    {
      "cell_type": "code",
      "metadata": {
        "id": "jrRhwUHvpSqq"
      },
      "source": [
        "# Getting Initial Files\n",
        "initial_files = os.listdir()"
      ],
      "execution_count": 13,
      "outputs": []
    },
    {
      "cell_type": "markdown",
      "metadata": {
        "id": "rCvvBnRUlZry"
      },
      "source": [
        "For this project, we will select the brazilian city 'Brasilia', Capital of Brazil.\n",
        "\n",
        "Initially, it will be selected years between 2011 and 2020 for no special reason (arbitrary)."
      ]
    },
    {
      "cell_type": "code",
      "metadata": {
        "id": "Vqr1UhtSlT5U"
      },
      "source": [
        "# Setting chosen data\n",
        "city = 'brasilia'\n",
        "start_year = 2011\n",
        "end_year = 2020\n",
        "\n",
        "# Creating a list of years for iteration\n",
        "years = np.arange(start_year,end_year+1,1)\n",
        "\n",
        "# List with strings(path) for the downloaded files\n",
        "files_path = []"
      ],
      "execution_count": 28,
      "outputs": []
    },
    {
      "cell_type": "markdown",
      "metadata": {
        "id": "t3UWJ1UMoKF0"
      },
      "source": [
        "Instead of downloading each zip file manually, it is better to simply download using python."
      ]
    },
    {
      "cell_type": "code",
      "metadata": {
        "id": "3xnPTuIPhkcI"
      },
      "source": [
        "# Getting Year by Year zip files\n",
        "for year in years:\n",
        "\n",
        "    # Using f-strings to select zip files.\n",
        "    zip_url = f\"https://portal.inmet.gov.br/uploads/dadoshistoricos/{year}.zip\"\n",
        "\n",
        "    # Getting original zip file name\n",
        "    zip_file = zip_url.split('/')[-1]\n",
        "\n",
        "    # Downloading File\n",
        "    urllib.request.urlretrieve(zip_url, zip_file)\n",
        "\n",
        "    # Reading Zip File and getting only the file of the selected city\n",
        "    with zipfile.ZipFile(zip_file, \"r\") as f:\n",
        "        for name in f.namelist():\n",
        "            if city in name.lower():\n",
        "              f.extract(name, path=None, pwd=None)\n",
        "              files_path.append(name)"
      ],
      "execution_count": 29,
      "outputs": []
    },
    {
      "cell_type": "markdown",
      "metadata": {
        "id": "LdQiBjyAr_Aj"
      },
      "source": [
        "Here we will need to take a look into one of the excel sheets to understand how data is in the sheets."
      ]
    },
    {
      "cell_type": "code",
      "metadata": {
        "colab": {
          "base_uri": "https://localhost:8080/",
          "height": 411
        },
        "id": "wHrMZ5-tr2BT",
        "outputId": "a1da85f5-7cc0-4965-96dc-fb12b5ed634d"
      },
      "source": [
        "test_data = pd.read_csv(files_path[0],sep=';',header=8, encoding='latin-1')\n",
        "test_data.head()"
      ],
      "execution_count": 30,
      "outputs": [
        {
          "output_type": "execute_result",
          "data": {
            "text/html": [
              "<div>\n",
              "<style scoped>\n",
              "    .dataframe tbody tr th:only-of-type {\n",
              "        vertical-align: middle;\n",
              "    }\n",
              "\n",
              "    .dataframe tbody tr th {\n",
              "        vertical-align: top;\n",
              "    }\n",
              "\n",
              "    .dataframe thead th {\n",
              "        text-align: right;\n",
              "    }\n",
              "</style>\n",
              "<table border=\"1\" class=\"dataframe\">\n",
              "  <thead>\n",
              "    <tr style=\"text-align: right;\">\n",
              "      <th></th>\n",
              "      <th>DATA (YYYY-MM-DD)</th>\n",
              "      <th>HORA (UTC)</th>\n",
              "      <th>PRECIPITAÇÃO TOTAL, HORÁRIO (mm)</th>\n",
              "      <th>PRESSAO ATMOSFERICA AO NIVEL DA ESTACAO, HORARIA (mB)</th>\n",
              "      <th>PRESSÃO ATMOSFERICA MAX.NA HORA ANT. (AUT) (mB)</th>\n",
              "      <th>PRESSÃO ATMOSFERICA MIN. NA HORA ANT. (AUT) (mB)</th>\n",
              "      <th>RADIACAO GLOBAL (KJ/m²)</th>\n",
              "      <th>TEMPERATURA DO AR - BULBO SECO, HORARIA (°C)</th>\n",
              "      <th>TEMPERATURA DO PONTO DE ORVALHO (°C)</th>\n",
              "      <th>TEMPERATURA MÁXIMA NA HORA ANT. (AUT) (°C)</th>\n",
              "      <th>TEMPERATURA MÍNIMA NA HORA ANT. (AUT) (°C)</th>\n",
              "      <th>TEMPERATURA ORVALHO MAX. NA HORA ANT. (AUT) (°C)</th>\n",
              "      <th>TEMPERATURA ORVALHO MIN. NA HORA ANT. (AUT) (°C)</th>\n",
              "      <th>UMIDADE REL. MAX. NA HORA ANT. (AUT) (%)</th>\n",
              "      <th>UMIDADE REL. MIN. NA HORA ANT. (AUT) (%)</th>\n",
              "      <th>UMIDADE RELATIVA DO AR, HORARIA (%)</th>\n",
              "      <th>VENTO, DIREÇÃO HORARIA (gr) (° (gr))</th>\n",
              "      <th>VENTO, RAJADA MAXIMA (m/s)</th>\n",
              "      <th>VENTO, VELOCIDADE HORARIA (m/s)</th>\n",
              "      <th>Unnamed: 19</th>\n",
              "    </tr>\n",
              "  </thead>\n",
              "  <tbody>\n",
              "    <tr>\n",
              "      <th>0</th>\n",
              "      <td>2011-01-01</td>\n",
              "      <td>00:00</td>\n",
              "      <td>0</td>\n",
              "      <td>881,8</td>\n",
              "      <td>881,8</td>\n",
              "      <td>881</td>\n",
              "      <td>-9999</td>\n",
              "      <td>19,2</td>\n",
              "      <td>18,3</td>\n",
              "      <td>19,4</td>\n",
              "      <td>19,2</td>\n",
              "      <td>18,5</td>\n",
              "      <td>18,3</td>\n",
              "      <td>95</td>\n",
              "      <td>94</td>\n",
              "      <td>95</td>\n",
              "      <td>342</td>\n",
              "      <td>5,8</td>\n",
              "      <td>3,4</td>\n",
              "      <td>NaN</td>\n",
              "    </tr>\n",
              "    <tr>\n",
              "      <th>1</th>\n",
              "      <td>2011-01-01</td>\n",
              "      <td>01:00</td>\n",
              "      <td>0</td>\n",
              "      <td>882,4</td>\n",
              "      <td>882,4</td>\n",
              "      <td>881,7</td>\n",
              "      <td>-9999</td>\n",
              "      <td>19,3</td>\n",
              "      <td>18,2</td>\n",
              "      <td>19,3</td>\n",
              "      <td>19,2</td>\n",
              "      <td>18,4</td>\n",
              "      <td>18,2</td>\n",
              "      <td>95</td>\n",
              "      <td>93</td>\n",
              "      <td>93</td>\n",
              "      <td>334</td>\n",
              "      <td>5,6</td>\n",
              "      <td>2,2</td>\n",
              "      <td>NaN</td>\n",
              "    </tr>\n",
              "    <tr>\n",
              "      <th>2</th>\n",
              "      <td>2011-01-01</td>\n",
              "      <td>02:00</td>\n",
              "      <td>0</td>\n",
              "      <td>882,7</td>\n",
              "      <td>882,7</td>\n",
              "      <td>882,4</td>\n",
              "      <td>-9999</td>\n",
              "      <td>19,1</td>\n",
              "      <td>18,3</td>\n",
              "      <td>19,3</td>\n",
              "      <td>19,1</td>\n",
              "      <td>18,3</td>\n",
              "      <td>18,2</td>\n",
              "      <td>95</td>\n",
              "      <td>93</td>\n",
              "      <td>95</td>\n",
              "      <td>347</td>\n",
              "      <td>5,6</td>\n",
              "      <td>3</td>\n",
              "      <td>NaN</td>\n",
              "    </tr>\n",
              "    <tr>\n",
              "      <th>3</th>\n",
              "      <td>2011-01-01</td>\n",
              "      <td>03:00</td>\n",
              "      <td>6</td>\n",
              "      <td>882,6</td>\n",
              "      <td>882,9</td>\n",
              "      <td>882,6</td>\n",
              "      <td>,3</td>\n",
              "      <td>18,1</td>\n",
              "      <td>17,6</td>\n",
              "      <td>19,1</td>\n",
              "      <td>18,1</td>\n",
              "      <td>18,4</td>\n",
              "      <td>17,6</td>\n",
              "      <td>97</td>\n",
              "      <td>95</td>\n",
              "      <td>96</td>\n",
              "      <td>310</td>\n",
              "      <td>7,9</td>\n",
              "      <td>3,7</td>\n",
              "      <td>NaN</td>\n",
              "    </tr>\n",
              "    <tr>\n",
              "      <th>4</th>\n",
              "      <td>2011-01-01</td>\n",
              "      <td>04:00</td>\n",
              "      <td>3</td>\n",
              "      <td>882</td>\n",
              "      <td>882,6</td>\n",
              "      <td>882</td>\n",
              "      <td>-9999</td>\n",
              "      <td>17,7</td>\n",
              "      <td>17,2</td>\n",
              "      <td>18,2</td>\n",
              "      <td>17,7</td>\n",
              "      <td>17,6</td>\n",
              "      <td>17,1</td>\n",
              "      <td>97</td>\n",
              "      <td>96</td>\n",
              "      <td>96</td>\n",
              "      <td>335</td>\n",
              "      <td>6,7</td>\n",
              "      <td>2,4</td>\n",
              "      <td>NaN</td>\n",
              "    </tr>\n",
              "  </tbody>\n",
              "</table>\n",
              "</div>"
            ],
            "text/plain": [
              "  DATA (YYYY-MM-DD) HORA (UTC)  ... VENTO, VELOCIDADE HORARIA (m/s) Unnamed: 19\n",
              "0        2011-01-01      00:00  ...                             3,4         NaN\n",
              "1        2011-01-01      01:00  ...                             2,2         NaN\n",
              "2        2011-01-01      02:00  ...                               3         NaN\n",
              "3        2011-01-01      03:00  ...                             3,7         NaN\n",
              "4        2011-01-01      04:00  ...                             2,4         NaN\n",
              "\n",
              "[5 rows x 20 columns]"
            ]
          },
          "metadata": {},
          "execution_count": 30
        }
      ]
    },
    {
      "cell_type": "markdown",
      "metadata": {
        "id": "byQNGYk2uGGh"
      },
      "source": [
        "With a quick look we can see that:\n",
        "\n",
        "- Numbers are using a comma\n",
        "- Date and hour are strings\n",
        "- the value '-9999' is probably an error or NaN values\n",
        "\n",
        "\n",
        "It will not be shown here, but some files have different header string but data in the same column index have the same meaning at all files, so it will be necessary to select data needed and rename with a standard name."
      ]
    },
    {
      "cell_type": "code",
      "metadata": {
        "colab": {
          "base_uri": "https://localhost:8080/"
        },
        "id": "3nYgFO-_vbSt",
        "outputId": "d7b037fa-59d9-41bc-9e06-bb87629f9128"
      },
      "source": [
        "# Showing all columns and indexes\n",
        "print(* (f\"{i}: {col}\" for i,col in enumerate(temp_df.columns)), sep='\\n')"
      ],
      "execution_count": 31,
      "outputs": [
        {
          "output_type": "stream",
          "name": "stdout",
          "text": [
            "0: DATA (YYYY-MM-DD)\n",
            "1: HORA (UTC)\n",
            "2: PRECIPITAÇÃO TOTAL, HORÁRIO (mm)\n",
            "3: PRESSAO ATMOSFERICA AO NIVEL DA ESTACAO, HORARIA (mB)\n",
            "4: PRESSÃO ATMOSFERICA MAX.NA HORA ANT. (AUT) (mB)\n",
            "5: PRESSÃO ATMOSFERICA MIN. NA HORA ANT. (AUT) (mB)\n",
            "6: RADIACAO GLOBAL (KJ/m²)\n",
            "7: TEMPERATURA DO AR - BULBO SECO, HORARIA (°C)\n",
            "8: TEMPERATURA DO PONTO DE ORVALHO (°C)\n",
            "9: TEMPERATURA MÁXIMA NA HORA ANT. (AUT) (°C)\n",
            "10: TEMPERATURA MÍNIMA NA HORA ANT. (AUT) (°C)\n",
            "11: TEMPERATURA ORVALHO MAX. NA HORA ANT. (AUT) (°C)\n",
            "12: TEMPERATURA ORVALHO MIN. NA HORA ANT. (AUT) (°C)\n",
            "13: UMIDADE REL. MAX. NA HORA ANT. (AUT) (%)\n",
            "14: UMIDADE REL. MIN. NA HORA ANT. (AUT) (%)\n",
            "15: UMIDADE RELATIVA DO AR, HORARIA (%)\n",
            "16: VENTO, DIREÇÃO HORARIA (gr) (° (gr))\n",
            "17: VENTO, RAJADA MAXIMA (m/s)\n",
            "18: VENTO, VELOCIDADE HORARIA (m/s)\n",
            "19: Unnamed: 19\n"
          ]
        }
      ]
    },
    {
      "cell_type": "markdown",
      "metadata": {
        "id": "IxvIPMREvnxz"
      },
      "source": [
        "Here we will select:\n",
        "- 0: Date\n",
        "- 1: Hour\n",
        "- 3: Atmospheric Pressure\n",
        "- 7: Temperature\n",
        "\n",
        "These are the data we are using for this notebook, but there are some interesting data like humidity, radiation and wind speed."
      ]
    },
    {
      "cell_type": "code",
      "metadata": {
        "id": "StDGYrurvoXP"
      },
      "source": [
        "# Selecting and setting data\n",
        "columns_selected = [0,1,3,7]\n",
        "test_data = test_data[test_data.columns[columns_selected]]"
      ],
      "execution_count": 32,
      "outputs": []
    },
    {
      "cell_type": "code",
      "metadata": {
        "id": "I-H_JYtZw4Q1"
      },
      "source": [
        "actual_columns = test_data.columns.to_list()\n",
        "\n",
        "# Creating a dictionary to help us renaming columns\n",
        "new_columns = {}\n",
        "new_columns[actual_columns[0]] = 'date'\n",
        "new_columns[actual_columns[1]] = 'hour'\n",
        "new_columns[actual_columns[2]] = 'p (mB)'\n",
        "new_columns[actual_columns[3]] = 'Temperature'\n",
        "\n",
        "# Using Dict to rename columns\n",
        "test_data.rename(columns=new_columns, inplace=True)"
      ],
      "execution_count": 33,
      "outputs": []
    },
    {
      "cell_type": "code",
      "metadata": {
        "colab": {
          "base_uri": "https://localhost:8080/",
          "height": 204
        },
        "id": "bMWDqRQkxXiU",
        "outputId": "6f7eb9ac-a2d4-4898-db49-ecf6d6962394"
      },
      "source": [
        "test_data.head()"
      ],
      "execution_count": 34,
      "outputs": [
        {
          "output_type": "execute_result",
          "data": {
            "text/html": [
              "<div>\n",
              "<style scoped>\n",
              "    .dataframe tbody tr th:only-of-type {\n",
              "        vertical-align: middle;\n",
              "    }\n",
              "\n",
              "    .dataframe tbody tr th {\n",
              "        vertical-align: top;\n",
              "    }\n",
              "\n",
              "    .dataframe thead th {\n",
              "        text-align: right;\n",
              "    }\n",
              "</style>\n",
              "<table border=\"1\" class=\"dataframe\">\n",
              "  <thead>\n",
              "    <tr style=\"text-align: right;\">\n",
              "      <th></th>\n",
              "      <th>date</th>\n",
              "      <th>hour</th>\n",
              "      <th>p (mB)</th>\n",
              "      <th>Temperature</th>\n",
              "    </tr>\n",
              "  </thead>\n",
              "  <tbody>\n",
              "    <tr>\n",
              "      <th>0</th>\n",
              "      <td>2011-01-01</td>\n",
              "      <td>00:00</td>\n",
              "      <td>881,8</td>\n",
              "      <td>19,2</td>\n",
              "    </tr>\n",
              "    <tr>\n",
              "      <th>1</th>\n",
              "      <td>2011-01-01</td>\n",
              "      <td>01:00</td>\n",
              "      <td>882,4</td>\n",
              "      <td>19,3</td>\n",
              "    </tr>\n",
              "    <tr>\n",
              "      <th>2</th>\n",
              "      <td>2011-01-01</td>\n",
              "      <td>02:00</td>\n",
              "      <td>882,7</td>\n",
              "      <td>19,1</td>\n",
              "    </tr>\n",
              "    <tr>\n",
              "      <th>3</th>\n",
              "      <td>2011-01-01</td>\n",
              "      <td>03:00</td>\n",
              "      <td>882,6</td>\n",
              "      <td>18,1</td>\n",
              "    </tr>\n",
              "    <tr>\n",
              "      <th>4</th>\n",
              "      <td>2011-01-01</td>\n",
              "      <td>04:00</td>\n",
              "      <td>882</td>\n",
              "      <td>17,7</td>\n",
              "    </tr>\n",
              "  </tbody>\n",
              "</table>\n",
              "</div>"
            ],
            "text/plain": [
              "         date   hour p (mB) Temperature\n",
              "0  2011-01-01  00:00  881,8        19,2\n",
              "1  2011-01-01  01:00  882,4        19,3\n",
              "2  2011-01-01  02:00  882,7        19,1\n",
              "3  2011-01-01  03:00  882,6        18,1\n",
              "4  2011-01-01  04:00    882        17,7"
            ]
          },
          "metadata": {},
          "execution_count": 34
        }
      ]
    },
    {
      "cell_type": "markdown",
      "metadata": {
        "id": "K_Nt-HZxxeqj"
      },
      "source": [
        "Now we need to handle date, time and numbers that are strings but there is a catch:\n",
        "\n",
        "- 'hour' data have different formats through years, but since it is hourly data I will use a not fancy solution but that will work around this problem."
      ]
    },
    {
      "cell_type": "code",
      "metadata": {
        "id": "YNifO-WQxd6E"
      },
      "source": [
        "# Fixing date and hour problems\n",
        "test_data['date'] = test_data['date'].str.replace('/','-')\n",
        "test_data['hour'] = test_data['hour'].apply(lambda x: x[:2])\n",
        "\n",
        "# Creating a datetime column to use as datetime index\n",
        "test_data['datetime'] = test_data['date'] + ' ' + test_data['hour']\n",
        "test_data['datetime'] = pd.to_datetime(test_data['datetime'], format='%Y-%m-%d %H')\n",
        "\n",
        "# Setting datetime index\n",
        "test_data.drop(['date','hour'],axis=1,inplace=True)\n",
        "test_data.set_index('datetime',inplace=True)\n",
        "\n",
        "# Fixing numbers with comma\n",
        "\n",
        "# Pressure Data\n",
        "test_data['p (mB)'] = test_data['p (mB)'].str.replace(',','.')\n",
        "test_data['p (mB)'] = test_data['p (mB)'].astype(float)\n",
        "\n",
        "# Temperature Date\n",
        "test_data['Temperature'] = test_data['Temperature'].str.replace(',','.')\n",
        "test_data['Temperature'] = test_data['Temperature'].astype(float)\n",
        "\n",
        "\n",
        "# Making '-9999' numbers a nan\n",
        "test_data = test_data.replace(-9999.0, np.nan)"
      ],
      "execution_count": 35,
      "outputs": []
    },
    {
      "cell_type": "code",
      "metadata": {
        "colab": {
          "base_uri": "https://localhost:8080/"
        },
        "id": "FVVQ1t-Hz4ue",
        "outputId": "478b906a-d017-4084-a156-a7ca1ea796a1"
      },
      "source": [
        "# Check NaN Values\n",
        "test_data.isnull().sum() / len(test_data)"
      ],
      "execution_count": 37,
      "outputs": [
        {
          "output_type": "execute_result",
          "data": {
            "text/plain": [
              "p (mB)         0.001027\n",
              "Temperature    0.001027\n",
              "dtype: float64"
            ]
          },
          "metadata": {},
          "execution_count": 37
        }
      ]
    },
    {
      "cell_type": "markdown",
      "metadata": {
        "id": "_x6zZwCZ0aD8"
      },
      "source": [
        "0.1% of data are missing values or errors. Since it is few datapoints missing we will interpolate to fill this data."
      ]
    },
    {
      "cell_type": "code",
      "metadata": {
        "id": "oT8lzPrZzbOl"
      },
      "source": [
        "test_data['p (mB)'] = test_data['p (mB)'].interpolate()\n",
        "test_data['Temperature'] = test_data['Temperature'].interpolate()"
      ],
      "execution_count": 38,
      "outputs": []
    },
    {
      "cell_type": "code",
      "metadata": {
        "colab": {
          "base_uri": "https://localhost:8080/",
          "height": 235
        },
        "id": "O9zejBuH00wf",
        "outputId": "32f2a5c0-20a4-4dc6-b110-78c40b183e76"
      },
      "source": [
        "test_data.head()"
      ],
      "execution_count": 39,
      "outputs": [
        {
          "output_type": "execute_result",
          "data": {
            "text/html": [
              "<div>\n",
              "<style scoped>\n",
              "    .dataframe tbody tr th:only-of-type {\n",
              "        vertical-align: middle;\n",
              "    }\n",
              "\n",
              "    .dataframe tbody tr th {\n",
              "        vertical-align: top;\n",
              "    }\n",
              "\n",
              "    .dataframe thead th {\n",
              "        text-align: right;\n",
              "    }\n",
              "</style>\n",
              "<table border=\"1\" class=\"dataframe\">\n",
              "  <thead>\n",
              "    <tr style=\"text-align: right;\">\n",
              "      <th></th>\n",
              "      <th>p (mB)</th>\n",
              "      <th>Temperature</th>\n",
              "    </tr>\n",
              "    <tr>\n",
              "      <th>datetime</th>\n",
              "      <th></th>\n",
              "      <th></th>\n",
              "    </tr>\n",
              "  </thead>\n",
              "  <tbody>\n",
              "    <tr>\n",
              "      <th>2011-01-01 00:00:00</th>\n",
              "      <td>881.8</td>\n",
              "      <td>19.2</td>\n",
              "    </tr>\n",
              "    <tr>\n",
              "      <th>2011-01-01 01:00:00</th>\n",
              "      <td>882.4</td>\n",
              "      <td>19.3</td>\n",
              "    </tr>\n",
              "    <tr>\n",
              "      <th>2011-01-01 02:00:00</th>\n",
              "      <td>882.7</td>\n",
              "      <td>19.1</td>\n",
              "    </tr>\n",
              "    <tr>\n",
              "      <th>2011-01-01 03:00:00</th>\n",
              "      <td>882.6</td>\n",
              "      <td>18.1</td>\n",
              "    </tr>\n",
              "    <tr>\n",
              "      <th>2011-01-01 04:00:00</th>\n",
              "      <td>882.0</td>\n",
              "      <td>17.7</td>\n",
              "    </tr>\n",
              "  </tbody>\n",
              "</table>\n",
              "</div>"
            ],
            "text/plain": [
              "                     p (mB)  Temperature\n",
              "datetime                                \n",
              "2011-01-01 00:00:00   881.8         19.2\n",
              "2011-01-01 01:00:00   882.4         19.3\n",
              "2011-01-01 02:00:00   882.7         19.1\n",
              "2011-01-01 03:00:00   882.6         18.1\n",
              "2011-01-01 04:00:00   882.0         17.7"
            ]
          },
          "metadata": {},
          "execution_count": 39
        }
      ]
    },
    {
      "cell_type": "markdown",
      "metadata": {
        "id": "MTcLRW8V07vt"
      },
      "source": [
        "It looks all set, from here we can create functions that will do all the steps necessary to use this data."
      ]
    },
    {
      "cell_type": "code",
      "metadata": {
        "id": "kkg7eNql1NL9"
      },
      "source": [
        "def get_data(city,start_year,end_year):\n",
        "    \"\"\"\n",
        "    input:\n",
        "    city: str, selected city\n",
        "    start_year: int\n",
        "    end_year: int\n",
        "\n",
        "    output:\n",
        "    files_path: List[str], list containing csv file paths\n",
        "    \"\"\"\n",
        "\n",
        "    years = np.arange(start_year,end_year+1,1)\n",
        "    files_path = []\n",
        "\n",
        "    for year in years:\n",
        "\n",
        "        zip_url = f\"https://portal.inmet.gov.br/uploads/dadoshistoricos/{year}.zip\"\n",
        "        zip_file = zip_url.split('/')[-1]\n",
        "        urllib.request.urlretrieve(zip_url, zip_file)\n",
        "\n",
        "        with zipfile.ZipFile(zip_file, \"r\") as f:\n",
        "            for name in f.namelist():\n",
        "                if city in name.lower():\n",
        "                  print(f\"{city.upper}\\nYear:{year}\\n_____________________________________\")\n",
        "                  f.extract(name, path=None, pwd=None)\n",
        "                  files_path.append(name)\n",
        "\n",
        "    return files_path\n",
        "\n",
        "def read_file(file):\n",
        "    \"\"\"\n",
        "    Get csv string path and returns pandas dataframe with columns selected\n",
        "    and columns renamed\n",
        "    \"\"\"\n",
        "\n",
        "    temp_df = pd.read_csv(file,sep=';',header=8, encoding='latin-1')\n",
        "\n",
        "    # Selecting and setting data\n",
        "    columns_selected = [0,1,3,7]\n",
        "    temp_df = temp_df[temp_df.columns[columns_selected]]\n",
        "\n",
        "    actual_columns = temp_df.columns.to_list()\n",
        "\n",
        "    # Creating a dictionary to help us renaming columns\n",
        "    new_columns = {}\n",
        "\n",
        "    new_columns[actual_columns[0]] = 'date'\n",
        "    new_columns[actual_columns[1]] = 'hour'\n",
        "    new_columns[actual_columns[2]] = 'p (mB)'\n",
        "    new_columns[actual_columns[3]] = 'Temperature'\n",
        "\n",
        "    # Using Dict to rename columns\n",
        "    temp_df.rename(columns=new_columns, inplace=True)\n",
        "\n",
        "    return temp_df\n",
        "\n",
        "def create_dataframe(csvs_path_list):\n",
        "    \"\"\"\n",
        "    Gets a list of strings containing csv files path and create a dataframe \n",
        "    with all data from files combined. Clean and format data.\n",
        "    \"\"\"\n",
        "\n",
        "    df = pd.concat([read_file(file) for file in csvs_path_list], axis=0)\n",
        "\n",
        "    # Fixing date and hour columns problems\n",
        "    df['date'] = df['date'].str.replace('/','-')\n",
        "    df['hour'] = df['hour'].apply(lambda x: x[:2])\n",
        "\n",
        "    # Creating a datetime column to use as datetime index\n",
        "    df['datetime'] = df['date'] + ' ' + df['hour']\n",
        "    df['datetime'] = pd.to_datetime(df['datetime'], format='%Y-%m-%d %H')\n",
        "\n",
        "    # Setting datetime index\n",
        "    df.drop(['date','hour'],axis=1,inplace=True)\n",
        "    df.set_index('datetime',inplace=True)\n",
        "\n",
        "    # Fixing numbers with comma - Pressure Data\n",
        "    df['p (mB)'] = df['p (mB)'].str.replace(',','.')\n",
        "    df['p (mB)'] = df['p (mB)'].astype(float)\n",
        "    \n",
        "    # Fixing numbers with comma - Temperature Date\n",
        "    df['Temperature'] = df['Temperature'].str.replace(',','.')\n",
        "    df['Temperature'] = df['Temperature'].astype(float)\n",
        "\n",
        "    # Making '-9999' numbers a nan\n",
        "    df = df.replace(-9999.0, np.nan)\n",
        "\n",
        "    df['p (mB)'] = df['p (mB)'].interpolate()\n",
        "    df['Temperature'] = df['Temperature'].interpolate()\n",
        "\n",
        "    # Sort dataframe ( just in case )\n",
        "    df.sort_index(inplace=True)\n",
        "\n",
        "    return df"
      ],
      "execution_count": 44,
      "outputs": []
    },
    {
      "cell_type": "code",
      "metadata": {
        "colab": {
          "base_uri": "https://localhost:8080/",
          "height": 450
        },
        "id": "LW_hNR4z4nxu",
        "outputId": "d525abff-4f14-497c-b13b-474945187d2e"
      },
      "source": [
        "# Creating dataframe from all csv files\n",
        "df = create_dataframe(files_path)\n",
        "\n",
        "df"
      ],
      "execution_count": 46,
      "outputs": [
        {
          "output_type": "execute_result",
          "data": {
            "text/html": [
              "<div>\n",
              "<style scoped>\n",
              "    .dataframe tbody tr th:only-of-type {\n",
              "        vertical-align: middle;\n",
              "    }\n",
              "\n",
              "    .dataframe tbody tr th {\n",
              "        vertical-align: top;\n",
              "    }\n",
              "\n",
              "    .dataframe thead th {\n",
              "        text-align: right;\n",
              "    }\n",
              "</style>\n",
              "<table border=\"1\" class=\"dataframe\">\n",
              "  <thead>\n",
              "    <tr style=\"text-align: right;\">\n",
              "      <th></th>\n",
              "      <th>p (mB)</th>\n",
              "      <th>Temperature</th>\n",
              "    </tr>\n",
              "    <tr>\n",
              "      <th>datetime</th>\n",
              "      <th></th>\n",
              "      <th></th>\n",
              "    </tr>\n",
              "  </thead>\n",
              "  <tbody>\n",
              "    <tr>\n",
              "      <th>2011-01-01 00:00:00</th>\n",
              "      <td>881.8</td>\n",
              "      <td>19.2</td>\n",
              "    </tr>\n",
              "    <tr>\n",
              "      <th>2011-01-01 01:00:00</th>\n",
              "      <td>882.4</td>\n",
              "      <td>19.3</td>\n",
              "    </tr>\n",
              "    <tr>\n",
              "      <th>2011-01-01 02:00:00</th>\n",
              "      <td>882.7</td>\n",
              "      <td>19.1</td>\n",
              "    </tr>\n",
              "    <tr>\n",
              "      <th>2011-01-01 03:00:00</th>\n",
              "      <td>882.6</td>\n",
              "      <td>18.1</td>\n",
              "    </tr>\n",
              "    <tr>\n",
              "      <th>2011-01-01 04:00:00</th>\n",
              "      <td>882.0</td>\n",
              "      <td>17.7</td>\n",
              "    </tr>\n",
              "    <tr>\n",
              "      <th>...</th>\n",
              "      <td>...</td>\n",
              "      <td>...</td>\n",
              "    </tr>\n",
              "    <tr>\n",
              "      <th>2020-12-31 19:00:00</th>\n",
              "      <td>885.2</td>\n",
              "      <td>28.1</td>\n",
              "    </tr>\n",
              "    <tr>\n",
              "      <th>2020-12-31 20:00:00</th>\n",
              "      <td>885.4</td>\n",
              "      <td>23.6</td>\n",
              "    </tr>\n",
              "    <tr>\n",
              "      <th>2020-12-31 21:00:00</th>\n",
              "      <td>885.6</td>\n",
              "      <td>23.6</td>\n",
              "    </tr>\n",
              "    <tr>\n",
              "      <th>2020-12-31 22:00:00</th>\n",
              "      <td>886.1</td>\n",
              "      <td>22.3</td>\n",
              "    </tr>\n",
              "    <tr>\n",
              "      <th>2020-12-31 23:00:00</th>\n",
              "      <td>886.3</td>\n",
              "      <td>21.3</td>\n",
              "    </tr>\n",
              "  </tbody>\n",
              "</table>\n",
              "<p>87672 rows × 2 columns</p>\n",
              "</div>"
            ],
            "text/plain": [
              "                     p (mB)  Temperature\n",
              "datetime                                \n",
              "2011-01-01 00:00:00   881.8         19.2\n",
              "2011-01-01 01:00:00   882.4         19.3\n",
              "2011-01-01 02:00:00   882.7         19.1\n",
              "2011-01-01 03:00:00   882.6         18.1\n",
              "2011-01-01 04:00:00   882.0         17.7\n",
              "...                     ...          ...\n",
              "2020-12-31 19:00:00   885.2         28.1\n",
              "2020-12-31 20:00:00   885.4         23.6\n",
              "2020-12-31 21:00:00   885.6         23.6\n",
              "2020-12-31 22:00:00   886.1         22.3\n",
              "2020-12-31 23:00:00   886.3         21.3\n",
              "\n",
              "[87672 rows x 2 columns]"
            ]
          },
          "metadata": {},
          "execution_count": 46
        }
      ]
    },
    {
      "cell_type": "markdown",
      "metadata": {
        "id": "m9ZH9Cwq5CEV"
      },
      "source": [
        "Now we will delete the files that are no longer needed."
      ]
    },
    {
      "cell_type": "code",
      "metadata": {
        "id": "ofSnRzwuntUb"
      },
      "source": [
        "files_list = os.listdir()\n",
        "\n",
        "for name in files_list:\n",
        "\n",
        "    if name not in initial_files:\n",
        "\n",
        "        if os.path.isdir(name):\n",
        "            shutil.rmtree(name, ignore_errors=True)\n",
        "        \n",
        "        elif os.path.isfile(name):\n",
        "            os.remove(name)"
      ],
      "execution_count": 47,
      "outputs": []
    },
    {
      "cell_type": "markdown",
      "metadata": {
        "id": "xbskGIpd5O6d"
      },
      "source": [
        "Save new dataframe cleaned and ready to use"
      ]
    },
    {
      "cell_type": "code",
      "metadata": {
        "id": "5XMKNFMVp_oK"
      },
      "source": [
        "df.to_csv(f\"{city}_temperature_data.csv\")"
      ],
      "execution_count": 48,
      "outputs": []
    }
  ]
}